{
 "cells": [
  {
   "cell_type": "markdown",
   "id": "58728b43",
   "metadata": {},
   "source": [
    "# CS4243 Project\n",
    "\n",
    "1. Clement Ng\n",
    "2. Kimberley Tay\n",
    "3. Wayne Tan"
   ]
  },
  {
   "cell_type": "markdown",
   "id": "eabb19b4",
   "metadata": {},
   "source": [
    "## Scraping dataset\n",
    "\n",
    "1. Images are scraped from google images, duckduckgo images, and unsplash.\n",
    "2. They are then manually labelled by us."
   ]
  },
  {
   "cell_type": "code",
   "execution_count": 54,
   "id": "5a950afd",
   "metadata": {
    "scrolled": true
   },
   "outputs": [],
   "source": [
    "#from compiled.scraper3 import main\n",
    "\n",
    "#main()"
   ]
  },
  {
   "cell_type": "markdown",
   "id": "87a586a9",
   "metadata": {},
   "source": [
    "## Image Preprocessing\n",
    "\n",
    "In this step, we will be taking a look at\n",
    "1. The dataset distribution\n",
    "2. Normalising of dataset\n",
    "3. Saving the dataset in a .pt extension for easily reproducible results"
   ]
  },
  {
   "cell_type": "code",
   "execution_count": 44,
   "id": "86e9511e",
   "metadata": {},
   "outputs": [],
   "source": [
    "from PIL import Image\n",
    "from torchvision import datasets, transforms\n",
    "from matplotlib import pyplot as plt\n",
    "import numpy as np\n",
    "import seaborn as sns\n",
    "import time, os, torch"
   ]
  },
  {
   "cell_type": "markdown",
   "id": "468cc33e",
   "metadata": {},
   "source": [
    "### Checking sizes of images\n",
    "\n",
    "A few things to note:\n",
    "1. base_folder defines the folder in which all the images are in.\n",
    "2. It is assumed that the images are in their respective folders based on their labels, with the folder name being the label, and all of them are in base_folder."
   ]
  },
  {
   "cell_type": "code",
   "execution_count": 45,
   "id": "49470f63",
   "metadata": {},
   "outputs": [],
   "source": [
    "base_folder = './dataset'\n",
    "classes = os.listdir(base_folder)\n",
    "classes = [int(i) for i in classes]\n",
    "classes.sort()"
   ]
  },
  {
   "cell_type": "code",
   "execution_count": 46,
   "id": "0b583cd3",
   "metadata": {},
   "outputs": [],
   "source": [
    "def dataset_stats():\n",
    "    stats = []\n",
    "    classes_ = [i for i in classes if i < 11]\n",
    "    for class_ in classes_:\n",
    "        folder_path = f'{base_folder}/{class_}'\n",
    "        files = os.listdir(folder_path)\n",
    "        for file in files:\n",
    "            im = Image.open(f'{folder_path}/{file}')\n",
    "            size = im.size\n",
    "            stats.append(size + (class_,))\n",
    "    return np.array(stats)"
   ]
  },
  {
   "cell_type": "code",
   "execution_count": 47,
   "id": "465db8b7",
   "metadata": {},
   "outputs": [],
   "source": [
    "stats = dataset_stats()"
   ]
  },
  {
   "cell_type": "code",
   "execution_count": 56,
   "id": "d2ce7a17",
   "metadata": {},
   "outputs": [
    {
     "data": {
      "text/plain": [
       "<AxesSubplot:ylabel='Count'>"
      ]
     },
     "execution_count": 56,
     "metadata": {},
     "output_type": "execute_result"
    },
    {
     "data": {
      "image/png": "[encoded data removed]",
      "text/plain": [
       "<Figure size 432x288 with 1 Axes>"
      ]
     },
     "metadata": {
      "needs_background": "light"
     },
     "output_type": "display_data"
    }
   ],
   "source": [
    "sns.histplot(x=stats[:, 2])"
   ]
  },
  {
   "cell_type": "markdown",
   "id": "3f475ce1",
   "metadata": {},
   "source": [
    "We observe that the amount of dataset for label 1 is much higher than the rest, so the measure we have chosen to adopt here is to deploy undersampling. Furthermore, for the labels >6, the quantity of dataset available is alot less than those <=6, and based on our decision that 6 is a good number to cut off especially because there is not much of a difference with either 10 or 11 people."
   ]
  },
  {
   "cell_type": "code",
   "execution_count": 59,
   "id": "afbe0c48",
   "metadata": {},
   "outputs": [
    {
     "data": {
      "text/plain": [
       "<AxesSubplot:ylabel='Count'>"
      ]
     },
     "execution_count": 59,
     "metadata": {},
     "output_type": "execute_result"
    },
    {
     "data": {
      "image/png": "[encoded data removed]",
      "text/plain": [
       "<Figure size 432x288 with 1 Axes>"
      ]
     },
     "metadata": {
      "needs_background": "light"
     },
     "output_type": "display_data"
    }
   ],
   "source": [
    "ratios = stats[:, 1] / stats[:, 0]\n",
    "sns.histplot(x=ratios)"
   ]
  },
  {
   "cell_type": "markdown",
   "id": "e16f5f8f",
   "metadata": {},
   "source": [
    "Most of the images lie within a boundary of 0.5 to 1.5 in aspect ratios, and since we decided to conduct undersampling for majority classes, we will prioritise keeping the images whose aspect ratio lie in this range. In other words, the images whose aspect ratios lie outside this range will be removed with priority."
   ]
  },
  {
   "cell_type": "markdown",
   "id": "77a42aaf",
   "metadata": {},
   "source": [
    "### Normalising Size of images\n",
    "\n",
    "1. We will be reading the images, converting them to the same size of 256x256, by scaling while retaining aspect ratio, then padding to a square with 0s.\n",
    "2. If the original image is larger than 256 on either side, it will be scaled down, else the size will remain the same.\n",
    "3. The dataset will then be saved to a .pt file, and uploaded to a repository so that it can be reproduced easier, instead of uploading all the images as a dataset.\n",
    "4. This step will only be performed on a local computer with the dataset and does not need to be reproduced when reproducing the results.\n",
    "5. If there are requests for the dataset used, please email XXX."
   ]
  },
  {
   "cell_type": "code",
   "execution_count": 58,
   "id": "b1c4ee94",
   "metadata": {},
   "outputs": [],
   "source": [
    "def make_square(im, size):\n",
    "    x, y = im.size\n",
    "    factor = x / y\n",
    "    new_size = (size, size)\n",
    "    if x < y:\n",
    "        new_size = (int(factor*size), size)\n",
    "    elif x > y:\n",
    "        new_size = (size, int(size / factor))\n",
    "    new_im = Image.new('RGB', (size, size), color=0)\n",
    "    new_im.paste(im.resize(new_size),\n",
    "                 (int((size - new_size[0]) / 2), int((size - new_size[1]) / 2)))\n",
    "    return new_im"
   ]
  },
  {
   "cell_type": "code",
   "execution_count": 11,
   "id": "a64eb5e5",
   "metadata": {},
   "outputs": [],
   "source": [
    "def load_dataset(size):\n",
    "    transformer = transforms.ToTensor()\n",
    "    dataset = []\n",
    "    labels = []\n",
    "    for class_ in classes:\n",
    "        folder_path = f'{base_folder}/{class_}'\n",
    "        files = os.listdir(folder_path)\n",
    "        files.sort()\n",
    "        for file in files:\n",
    "            im = Image.open(f'{folder_path}/{file}')\n",
    "            new_im = make_square(im, size)\n",
    "            dataset.append(transformer(new_im))\n",
    "            labels.append(class_)\n",
    "    dataset = torch.stack(dataset[0:648], dim=0)\n",
    "    labels = torch.tensor(labels[0:648])\n",
    "    return dataset, labels"
   ]
  },
  {
   "cell_type": "code",
   "execution_count": 12,
   "id": "a106275c",
   "metadata": {},
   "outputs": [],
   "source": [
    "dataset, labels = load_dataset(256)"
   ]
  },
  {
   "cell_type": "code",
   "execution_count": 13,
   "id": "f8aaaa7b",
   "metadata": {
    "scrolled": true
   },
   "outputs": [
    {
     "data": {
      "text/plain": [
       "torch.Size([648, 3, 256, 256])"
      ]
     },
     "execution_count": 13,
     "metadata": {},
     "output_type": "execute_result"
    }
   ],
   "source": [
    "dataset.size()"
   ]
  },
  {
   "cell_type": "code",
   "execution_count": 14,
   "id": "060ab288",
   "metadata": {},
   "outputs": [],
   "source": [
    "torch.save(dataset, 'dataset1.pt')"
   ]
  },
  {
   "cell_type": "code",
   "execution_count": 15,
   "id": "38728387",
   "metadata": {},
   "outputs": [
    {
     "data": {
      "text/plain": [
       "tensor(0.0678)"
      ]
     },
     "execution_count": 15,
     "metadata": {},
     "output_type": "execute_result"
    }
   ],
   "source": [
    "count = 0\n",
    "many_black = []\n",
    "size = dataset.size()\n",
    "for i in range(size[0]):\n",
    "    count += dataset[i, :, :, :].count_nonzero()\n",
    "    if(dataset[i, :, :, :].count_nonzero()) < 98304:\n",
    "        many_black.append(i)\n",
    "\n",
    "count/(256*256*3*6480)"
   ]
  },
  {
   "cell_type": "code",
   "execution_count": 20,
   "id": "5a217488",
   "metadata": {},
   "outputs": [
    {
     "name": "stdout",
     "output_type": "stream",
     "text": [
      "tensor(0)\n"
     ]
    },
    {
     "data": {
      "image/png": "[encoded data removed]",
      "text/plain": [
       "<Figure size 432x288 with 1 Axes>"
      ]
     },
     "metadata": {
      "needs_background": "light"
     },
     "output_type": "display_data"
    }
   ],
   "source": [
    "samples = np.random.randint(0, dataset.size()[0], 1)\n",
    "samples = [many_black[11]]\n",
    "for sample in samples:\n",
    "    im = dataset[sample]\n",
    "    plt.figure()\n",
    "    plt.imshow(im.numpy().transpose((1,2,0)))\n",
    "    print(labels[sample])"
   ]
  },
  {
   "cell_type": "markdown",
   "id": "4754c38a",
   "metadata": {},
   "source": [
    "### Saving as a .pt file"
   ]
  },
  {
   "cell_type": "code",
   "execution_count": 19,
   "id": "d4f93fcb",
   "metadata": {},
   "outputs": [],
   "source": [
    "total_size = dataset.size()[0]\n",
    "train_proportion = 0.8\n",
    "train_size = int(train_proportion*total_size)\n",
    "\n",
    "shuffled_indices = np.random.permutation(np.arange(total_size))\n",
    "train_indices = shuffled_indices[:train_size]\n",
    "test_indices = shuffled_indices[train_size:]"
   ]
  },
  {
   "cell_type": "code",
   "execution_count": null,
   "id": "932b52ab",
   "metadata": {},
   "outputs": [],
   "source": [
    "train_data = dataset[train_indices, :, :, :]\n",
    "train_labels = labels[train_indices]\n",
    "test_data = dataset[test_indices, :, :, :]\n",
    "test_labels = labels[test_indices]\n",
    "\n",
    "torch.save(train_data, 'train_data.pt')\n",
    "torch.save(train_labels, 'train_labels.pt')\n",
    "torch.save(test_data, 'test_data.pt')\n",
    "torch.save(test_labels, 'test_labels.pt')"
   ]
  },
  {
   "cell_type": "code",
   "execution_count": 20,
   "id": "fd56f269",
   "metadata": {},
   "outputs": [],
   "source": [
    "torch.save(dataset, 'dataset.pt')\n",
    "torch.save(labels, 'labels.pt')"
   ]
  },
  {
   "cell_type": "code",
   "execution_count": 10,
   "id": "e1305738",
   "metadata": {},
   "outputs": [],
   "source": [
    "train_data = dataset[:100, :, :, :]"
   ]
  },
  {
   "cell_type": "markdown",
   "id": "f6710806",
   "metadata": {},
   "source": [
    "## Training of the model\n",
    "\n",
    "The main goals of this step is to\n",
    "1. Perform a Vanilla CNN\n",
    "2. Try to develop a more advanced structure mainly based on the hierarichal features idea taught in class"
   ]
  },
  {
   "cell_type": "code",
   "execution_count": 68,
   "id": "125dd2aa",
   "metadata": {},
   "outputs": [],
   "source": [
    "import torch.nn as nn"
   ]
  },
  {
   "cell_type": "code",
   "execution_count": 70,
   "id": "b89f464c",
   "metadata": {},
   "outputs": [],
   "source": [
    "size = np.array([256, 256])\n",
    "\n",
    "class Vanilla_CNN(nn.Module):\n",
    "    \n",
    "    def __init__(self, hidden_dim, output_dim):\n",
    "        super(Vanilla_CNN, self).__init__()\n",
    "        \n",
    "        self.linear_dim = hidden_dim*size.product()\n",
    "        self.conv = nn.Conv2d(3, hidden_dim, kernel_size=3, padding=1)\n",
    "        self.linear = nn.Linear(self.linear_dim, output_dim)\n",
    "    \n",
    "    def forward(self, x):\n",
    "        x = self.conv(x)\n",
    "        x = torch.relu(x)\n",
    "        x = x.view(-1, self.linear_dim)\n",
    "        x = self.linear(x)\n",
    "        return x"
   ]
  },
  {
   "cell_type": "code",
   "execution_count": null,
   "id": "f20699e7",
   "metadata": {},
   "outputs": [],
   "source": []
  }
 ],
 "metadata": {
  "kernelspec": {
   "display_name": "Python 3 (ipykernel)",
   "language": "python",
   "name": "python3"
  },
  "language_info": {
   "codemirror_mode": {
    "name": "ipython",
    "version": 3
   },
   "file_extension": ".py",
   "mimetype": "text/x-python",
   "name": "python",
   "nbconvert_exporter": "python",
   "pygments_lexer": "ipython3",
   "version": "3.7.10"
  }
 },
 "nbformat": 4,
 "nbformat_minor": 5
}
