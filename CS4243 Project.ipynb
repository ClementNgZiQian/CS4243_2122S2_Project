{
 "cells": [
  {
   "cell_type": "markdown",
   "id": "58728b43",
   "metadata": {},
   "source": [
    "# CS4243 Project\n",
    "\n",
    "1. Clement Ng\n",
    "2. Kimberley Tay\n",
    "3. Wayne Tan"
   ]
  },
  {
   "cell_type": "markdown",
   "id": "eabb19b4",
   "metadata": {},
   "source": [
    "## Scraping dataset\n",
    "\n",
    "1. Images are scraped from google images, duckduckgo images, and unsplash.\n",
    "2. They are then manually labelled by us."
   ]
  },
  {
   "cell_type": "code",
   "execution_count": 54,
   "id": "5a950afd",
   "metadata": {
    "scrolled": true
   },
   "outputs": [],
   "source": [
    "#from scraper import main\n",
    "\n",
    "#main()"
   ]
  },
  {
   "cell_type": "markdown",
   "id": "87a586a9",
   "metadata": {},
   "source": [
    "## Image Preprocessing\n",
    "\n",
    "In this step, we will be taking a look at\n",
    "1. The dataset distribution\n",
    "2. Normalising of dataset\n",
    "3. Saving the dataset in a .pt extension for easily reproducible results"
   ]
  },
  {
   "cell_type": "code",
   "execution_count": 1,
   "id": "86e9511e",
   "metadata": {},
   "outputs": [],
   "source": [
    "from PIL import Image\n",
    "from torchvision import datasets, transforms\n",
    "from matplotlib import pyplot as plt\n",
    "import numpy as np\n",
    "import seaborn as sns\n",
    "import time, os, torch, shutil"
   ]
  },
  {
   "cell_type": "markdown",
   "id": "468cc33e",
   "metadata": {},
   "source": [
    "### Checking sizes of images\n",
    "\n",
    "A few things to note:\n",
    "1. base_folder defines the folder in which all the images are in.\n",
    "2. It is assumed that the images are in their respective folders based on their labels, with the folder name being the label, and all of them are in base_folder."
   ]
  },
  {
   "cell_type": "code",
   "execution_count": 2,
   "id": "49470f63",
   "metadata": {},
   "outputs": [],
   "source": [
    "base_folder = './dataset-raw'\n",
    "classes = os.listdir(base_folder)\n",
    "classes = [int(i) for i in classes]\n",
    "classes.sort()"
   ]
  },
  {
   "cell_type": "code",
   "execution_count": 3,
   "id": "0b583cd3",
   "metadata": {},
   "outputs": [],
   "source": [
    "def dataset_stats(classes):\n",
    "    stats = []\n",
    "    paths = []\n",
    "    for class_ in classes:\n",
    "        folder_path = f'{base_folder}/{class_}'\n",
    "        files = os.listdir(folder_path)\n",
    "        files.sort()\n",
    "        for file in files:\n",
    "            file_path = f'{folder_path}/{file}'\n",
    "            im = Image.open(file_path)\n",
    "            size = im.size\n",
    "            stats.append(size + (min(class_, 11), ))\n",
    "            paths.append(file_path)\n",
    "    return np.array(stats), np.array(paths)"
   ]
  },
  {
   "cell_type": "code",
   "execution_count": 4,
   "id": "465db8b7",
   "metadata": {},
   "outputs": [],
   "source": [
    "stats, paths = dataset_stats(classes)"
   ]
  },
  {
   "cell_type": "code",
   "execution_count": 5,
   "id": "d2ce7a17",
   "metadata": {},
   "outputs": [
    {
     "data": {
      "text/plain": [
       "<AxesSubplot:ylabel='Count'>"
      ]
     },
     "execution_count": 5,
     "metadata": {},
     "output_type": "execute_result"
    },
    {
     "data": {
      "image/png": "[encoded data removed]",
      "text/plain": [
       "<Figure size 432x288 with 1 Axes>"
      ]
     },
     "metadata": {
      "needs_background": "light"
     },
     "output_type": "display_data"
    }
   ],
   "source": [
    "sns.histplot(x=stats[:, 2])"
   ]
  },
  {
   "cell_type": "markdown",
   "id": "3f475ce1",
   "metadata": {},
   "source": [
    "We observe that the amount of dataset for label 1 is much higher than the rest, so the measure we have chosen to adopt here is to deploy undersampling. Furthermore, for the labels >6, the quantity of dataset available is alot less than those <=6, and based on our decision that 6 is a good number to cut off. The label choice we have decided on will be [0, 1, 2, 3, 4, 5, 6, 7-10,>10].\n",
    "\n",
    "We have determined that it doesnt make a difference whether there 11 or 12 people in an image, and 6 makes for a size suitable for a small group."
   ]
  },
  {
   "cell_type": "code",
   "execution_count": 6,
   "id": "f7c85421",
   "metadata": {},
   "outputs": [],
   "source": [
    "def get_ratio(stats):\n",
    "    result = stats[:, 0:2].max(axis=1) / stats[:, 0:2].min(axis=1)\n",
    "    return result"
   ]
  },
  {
   "cell_type": "code",
   "execution_count": 7,
   "id": "afbe0c48",
   "metadata": {},
   "outputs": [
    {
     "data": {
      "text/plain": [
       "<AxesSubplot:ylabel='Count'>"
      ]
     },
     "execution_count": 7,
     "metadata": {},
     "output_type": "execute_result"
    },
    {
     "data": {
      "image/png": "[encoded data removed]",
      "text/plain": [
       "<Figure size 432x288 with 1 Axes>"
      ]
     },
     "metadata": {
      "needs_background": "light"
     },
     "output_type": "display_data"
    }
   ],
   "source": [
    "ratios = get_ratio(stats)\n",
    "sns.histplot(x=ratios)"
   ]
  },
  {
   "cell_type": "markdown",
   "id": "e16f5f8f",
   "metadata": {},
   "source": [
    "Most of the images lie within a boundary of 1 to 2 in aspect ratios, and since we decided to conduct undersampling for majority classes, we will prioritise keeping the images whose aspect ratio lie in this range. In other words, the images whose aspect ratios lie outside this range will be removed with priority."
   ]
  },
  {
   "cell_type": "code",
   "execution_count": 25,
   "id": "f315c138",
   "metadata": {},
   "outputs": [],
   "source": [
    "size = len(stats)\n",
    "train_proportion = 0.8\n",
    "train_size = int(train_proportion*size)\n",
    "np.random.seed(5)\n",
    "shuffled_indices = np.random.permutation(np.arange(size))\n",
    "train_indices = shuffled_indices[:train_size]\n",
    "test_indices = shuffled_indices[train_size:]\n",
    "train_set_stats = stats[train_indices]"
   ]
  },
  {
   "cell_type": "code",
   "execution_count": 11,
   "id": "91507f62",
   "metadata": {},
   "outputs": [
    {
     "name": "stdout",
     "output_type": "stream",
     "text": [
      "[339. 249.   2.]\n"
     ]
    }
   ],
   "source": [
    "print(np.median(train_set_stats, axis = 0))"
   ]
  },
  {
   "cell_type": "markdown",
   "id": "d8863db7",
   "metadata": {},
   "source": [
    "Since the smaller dimension of the median is 249 and we note that 224 x 224 is a common dimension for images resizing for CNN, we have chosen to adopt 224 x 224 as our dimension for images."
   ]
  },
  {
   "cell_type": "markdown",
   "id": "ca8aed17",
   "metadata": {},
   "source": [
    "### Filtering Images\n",
    "\n",
    "There are images which are very small compared to the size we have have chosen to keep, which is 224x224. So we will filter the images which are less than 1/4 of the desired size for all.\n",
    "\n",
    "Furthermore, since there is a majority of dataset for label 0, 1 and 2, we have decided to undersample it, in the following order:\n",
    "1. Selectively filter based on aspect ratio (so that the amount of black box in the dataset would not be too high.\n",
    "2. Keep filtering until we have approximately equal to the number of datapoints as the next highest class."
   ]
  },
  {
   "cell_type": "code",
   "execution_count": 12,
   "id": "1580fe91",
   "metadata": {},
   "outputs": [],
   "source": [
    "def filter_small(stats, paths, size=256):\n",
    "    crit_met = np.logical_and(\n",
    "        stats[:, 0] >= size/2, stats[:, 1] >= size/2)\n",
    "    return stats[crit_met], paths[crit_met]"
   ]
  },
  {
   "cell_type": "code",
   "execution_count": 13,
   "id": "fdc46f50",
   "metadata": {},
   "outputs": [],
   "source": [
    "stats[(stats[:,2] < 11) & (stats[:, 2] > 6), 2] = 7\n",
    "stats[stats[:,2] >= 11, 2] = 8"
   ]
  },
  {
   "cell_type": "markdown",
   "id": "90bdb5fb",
   "metadata": {},
   "source": [
    "From here on, label 7 will represent 7-10 people, and label 8 will denote > 10 people"
   ]
  },
  {
   "cell_type": "code",
   "execution_count": 14,
   "id": "9a9f0084",
   "metadata": {},
   "outputs": [
    {
     "name": "stdout",
     "output_type": "stream",
     "text": [
      "(9475, 3)\n",
      "(9233, 3) (9233,)\n"
     ]
    },
    {
     "data": {
      "image/png": "[encoded data removed]",
      "text/plain": [
       "<Figure size 432x288 with 1 Axes>"
      ]
     },
     "metadata": {
      "needs_background": "light"
     },
     "output_type": "display_data"
    }
   ],
   "source": [
    "filtered_stats, filtered_paths = filter_small(stats, paths, 224)\n",
    "sns.histplot(x=filtered_stats[:, 2])\n",
    "print(stats.shape)\n",
    "print(filtered_stats.shape, filtered_paths.shape)"
   ]
  },
  {
   "cell_type": "code",
   "execution_count": 15,
   "id": "f299ffff",
   "metadata": {
    "scrolled": true
   },
   "outputs": [],
   "source": [
    "def undersample(stats, paths):\n",
    "    labels = np.unique(stats[:, 2])\n",
    "    count = []\n",
    "    for label in labels:\n",
    "        count.append(np.count_nonzero(stats[:, 2] == label))\n",
    "    count.sort()\n",
    "    \n",
    "    retain = count[-4]\n",
    "    filtered = []\n",
    "    filtered_paths = []\n",
    "    for label in labels:\n",
    "        \n",
    "        # We scale the aspect ratios so that 1 -> 0, then \n",
    "        indices = (stats[:, 2] == label)\n",
    "        stats_temp = stats[indices]\n",
    "        paths_temp = paths[indices]\n",
    "        \n",
    "        ratio = np.abs(get_ratio(stats_temp) - 1)\n",
    "        kept_indices = np.argsort(ratio)[: retain]\n",
    "        filtered.append(stats_temp[kept_indices])\n",
    "        filtered_paths.append(paths_temp[kept_indices])\n",
    "    \n",
    "    filtered = np.concatenate(filtered, axis=0)\n",
    "    filtered_paths = np.concatenate(filtered_paths, axis=0)\n",
    "    return filtered, filtered_paths"
   ]
  },
  {
   "cell_type": "code",
   "execution_count": 16,
   "id": "379f99c4",
   "metadata": {},
   "outputs": [],
   "source": [
    "images, images_paths = undersample(filtered_stats, filtered_paths)"
   ]
  },
  {
   "cell_type": "code",
   "execution_count": 17,
   "id": "29eadada",
   "metadata": {},
   "outputs": [
    {
     "data": {
      "text/plain": [
       "<AxesSubplot:ylabel='Count'>"
      ]
     },
     "execution_count": 17,
     "metadata": {},
     "output_type": "execute_result"
    },
    {
     "data": {
      "image/png": "[encoded data removed]",
      "text/plain": [
       "<Figure size 432x288 with 1 Axes>"
      ]
     },
     "metadata": {
      "needs_background": "light"
     },
     "output_type": "display_data"
    }
   ],
   "source": [
    "sns.histplot(x=images[:, 2])"
   ]
  },
  {
   "cell_type": "markdown",
   "id": "77a42aaf",
   "metadata": {},
   "source": [
    "### Normalising Size of images\n",
    "\n",
    "1. We will be reading the images, converting them to the same size of 224x224, by scaling while retaining aspect ratio, then padding to a square with 0s.\n",
    "2. If the original image is larger than 256 on either side, it will be scaled down, else the size will remain the same.\n",
    "3. The dataset will then be saved to a .pt file, and uploaded to a repository so that it can be reproduced easier, instead of uploading all the images as a dataset.\n",
    "4. This step will only be performed on a local computer with the dataset and does not need to be reproduced when reproducing the results."
   ]
  },
  {
   "cell_type": "code",
   "execution_count": 18,
   "id": "b1c4ee94",
   "metadata": {},
   "outputs": [],
   "source": [
    "def make_square(im, size=256):\n",
    "    x, y = im.size\n",
    "    factor = x / y\n",
    "    new_size = (size, size)\n",
    "    if x < y:\n",
    "        new_size = (int(factor*size), size)\n",
    "    elif x > y:\n",
    "        new_size = (size, int(size / factor))\n",
    "    new_im = Image.new('RGB', (size, size), color=0)\n",
    "    new_im.paste(im.resize(new_size),\n",
    "                 (int((size - new_size[0]) / 2), int((size - new_size[1]) / 2)))\n",
    "    return new_im"
   ]
  },
  {
   "cell_type": "code",
   "execution_count": 19,
   "id": "a64eb5e5",
   "metadata": {},
   "outputs": [],
   "source": [
    "def load_dataset(entries, paths, size=256):\n",
    "    transformer = transforms.ToTensor()\n",
    "    dataset = []\n",
    "    labels = []\n",
    "    for entry, file_path in zip(entries, paths):\n",
    "        label = entry[2]\n",
    "        \n",
    "        im = Image.open(file_path)\n",
    "        new_im = make_square(im, size)\n",
    "        \n",
    "        dataset.append(transformer(new_im))\n",
    "        labels.append(label)\n",
    "        \n",
    "    dataset = torch.stack(dataset, dim=0)\n",
    "    labels = torch.tensor(labels)\n",
    "    return dataset, labels"
   ]
  },
  {
   "cell_type": "code",
   "execution_count": 20,
   "id": "a106275c",
   "metadata": {},
   "outputs": [],
   "source": [
    "size = 224\n",
    "dataset, labels = load_dataset(images, images_paths, size)"
   ]
  },
  {
   "cell_type": "code",
   "execution_count": 21,
   "id": "f8aaaa7b",
   "metadata": {
    "scrolled": true
   },
   "outputs": [
    {
     "data": {
      "text/plain": [
       "torch.Size([6333, 3, 224, 224])"
      ]
     },
     "execution_count": 21,
     "metadata": {},
     "output_type": "execute_result"
    }
   ],
   "source": [
    "dataset.size()"
   ]
  },
  {
   "cell_type": "markdown",
   "id": "4754c38a",
   "metadata": {},
   "source": [
    "### Saving as a .pt file\n",
    "\n",
    "The upload limit to github is 100mb per file, so we will save multiple instances."
   ]
  },
  {
   "cell_type": "code",
   "execution_count": 26,
   "id": "d4f93fcb",
   "metadata": {},
   "outputs": [],
   "source": [
    "total_size = dataset.size(0)\n",
    "train_indices = train_indices[train_indices < total_size]\n",
    "test_indices = test_indices[test_indices < total_size]"
   ]
  },
  {
   "cell_type": "code",
   "execution_count": 98,
   "id": "932b52ab",
   "metadata": {},
   "outputs": [],
   "source": [
    "def save_data(dataset, name, indices):\n",
    "    batch_size = 170\n",
    "    total = indices.size\n",
    "    for count in range(0, total, batch_size):\n",
    "        batch_indices = indices[count: count+batch_size]\n",
    "        batch = None\n",
    "        if 'labels' in name:\n",
    "            batch = dataset[batch_indices]\n",
    "        elif 'data' in name:\n",
    "            batch = dataset[batch_indices, :, :, :]\n",
    "        \n",
    "        if batch != None:\n",
    "            torch.save(batch, \n",
    "                       f'./dataset/{name}/{name}_{(count//batch_size) + 1}.pt')\n",
    "        else:\n",
    "            print('Wrong name given')"
   ]
  },
  {
   "cell_type": "code",
   "execution_count": 99,
   "id": "fd56f269",
   "metadata": {},
   "outputs": [],
   "source": [
    "save_data(dataset, 'train_data', train_indices)\n",
    "save_data(labels, 'train_labels', train_indices)\n",
    "save_data(dataset, 'test_data', test_indices)\n",
    "save_data(labels, 'test_labels', test_indices)"
   ]
  },
  {
   "cell_type": "markdown",
   "id": "f6710806",
   "metadata": {},
   "source": [
    "## Training of the model (Basic CNN)\n",
    "\n",
    "The main goals of this step is to\n",
    "1. Perform a Vanilla CNN\n",
    "2. Try to develop a more advanced structure mainly based on the hierarichal features idea taught in class"
   ]
  },
  {
   "cell_type": "markdown",
   "id": "a55786ed",
   "metadata": {},
   "source": [
    "### Getting dataset\n",
    "\n",
    "Using the requests module to download the dataset from our repo. (For use when running the notebook from collab where the files have yet to be downloaded)"
   ]
  },
  {
   "cell_type": "code",
   "execution_count": 1,
   "id": "7ac791ac",
   "metadata": {},
   "outputs": [],
   "source": [
    "import os, torch"
   ]
  },
  {
   "cell_type": "code",
   "execution_count": 2,
   "id": "c4098ed3",
   "metadata": {},
   "outputs": [],
   "source": [
    "files = {\n",
    "    'train_data': [\n",
    "        'https://github.com/ClementNgZiQian/CS4243_2122S2_Project/blob/main/dataset/train_data/train_data_1.pt?raw=true',\n",
    "        30\n",
    "    ],\n",
    "    'train_labels': [\n",
    "        'https://github.com/ClementNgZiQian/CS4243_2122S2_Project/blob/main/dataset/train_labels/train_labels_1.pt?raw=true',\n",
    "        30\n",
    "    ],\n",
    "    'test_data': [\n",
    "        'https://github.com/ClementNgZiQian/CS4243_2122S2_Project/blob/main/dataset/test_data/test_data_1.pt?raw=true',\n",
    "        8\n",
    "    ],\n",
    "    'test_labels': [\n",
    "        'https://github.com/ClementNgZiQian/CS4243_2122S2_Project/blob/main/dataset/test_labels/test_labels_1.pt?raw=true',\n",
    "        8\n",
    "    ],\n",
    "}"
   ]
  },
  {
   "cell_type": "code",
   "execution_count": 3,
   "id": "f20699e7",
   "metadata": {},
   "outputs": [],
   "source": [
    "import requests\n",
    "base_folder = './dataset'\n",
    "\n",
    "def check_dataset(files):\n",
    "    for type_, info in files.items():\n",
    "        if not os.path.exists(os.path.join(base_folder, type_)):\n",
    "            os.makedirs(os.path.join(base_folder, type_))\n",
    "        url = info[0]\n",
    "        \n",
    "        for i in range(info[-1]):\n",
    "            name = f'{type_}_{i+1}'\n",
    "            file_path = f'{base_folder}/{type_}/{name}.pt'\n",
    "            if not os.path.exists(file_path):\n",
    "                r = requests.get(url.replace(f'{type_}_1', name))\n",
    "                with open(file_path, 'wb') as f:\n",
    "                    f.write(r.content)\n",
    "\n",
    "not_found = check_dataset(files)"
   ]
  },
  {
   "cell_type": "code",
   "execution_count": 4,
   "id": "9357ea5b",
   "metadata": {},
   "outputs": [],
   "source": [
    "def load_dataset(type_):\n",
    "    folder = os.path.join(base_folder, type_)\n",
    "    files = os.listdir(folder)\n",
    "    files = [os.path.join(folder, i) for i in files]\n",
    "    files.sort()\n",
    "    result = torch.load(files[0])\n",
    "    for file in files[1:]:\n",
    "        result = torch.cat((result, torch.load(file)), dim=0)\n",
    "    return result"
   ]
  },
  {
   "cell_type": "code",
   "execution_count": 7,
   "id": "ea3221d8",
   "metadata": {},
   "outputs": [],
   "source": [
    "train_data = load_dataset('train_data')\n",
    "train_label = load_dataset('train_labels')\n",
    "test_data = load_dataset('test_data')\n",
    "test_label = load_dataset('test_labels')"
   ]
  },
  {
   "cell_type": "code",
   "execution_count": 8,
   "id": "5d7cc981",
   "metadata": {},
   "outputs": [
    {
     "name": "stdout",
     "output_type": "stream",
     "text": [
      "torch.Size([5066, 3, 224, 224])\n",
      "torch.Size([1267, 3, 224, 224])\n"
     ]
    }
   ],
   "source": [
    "print(train_data.shape)\n",
    "print(test_data.shape)"
   ]
  },
  {
   "cell_type": "markdown",
   "id": "52ab1d82",
   "metadata": {},
   "source": [
    "### Helper functions for training model multiple times"
   ]
  },
  {
   "cell_type": "code",
   "execution_count": 9,
   "id": "fa32a204",
   "metadata": {},
   "outputs": [],
   "source": [
    "def get_accuracy(scores, labels):\n",
    "    bs = labels.size(0)\n",
    "    predicted_labels = scores.argmax(dim=1)\n",
    "    indicator = (predicted_labels == labels)\n",
    "    num_error = indicator.sum()\n",
    "    return num_error.float()/bs"
   ]
  },
  {
   "cell_type": "code",
   "execution_count": 10,
   "id": "295e4e5f",
   "metadata": {},
   "outputs": [],
   "source": [
    "def train_model(model, criterion, train_data, train_label, \n",
    "                epochs, normalize=True, bs=100, lr=0.1):\n",
    "    \n",
    "    #torch.autograd.set_detect_anomaly(True)\n",
    "    start = time.time()\n",
    "    train_size = train_data.size(0)\n",
    "    num_batches = (train_size // bs) + 1\n",
    "    losses = np.zeros([epochs])\n",
    "    accuracies = np.zeros([epochs])\n",
    "    \n",
    "    mean = train_data.mean()\n",
    "    mean = mean.to(device)\n",
    "    std = train_data.std()\n",
    "    std = std.to(device)\n",
    "    \n",
    "    for epoch in range(epochs):\n",
    "        epoch_loss = 0\n",
    "        epoch_accuracy = 0\n",
    "        \n",
    "        if epoch % 10 == 9:\n",
    "            lr = lr / 2\n",
    "        optimizer = torch.optim.Adam(model.parameters(), lr=lr)\n",
    "        shuffled_indices = torch.randperm(train_size)\n",
    "        \n",
    "        for count in range(0, train_size, bs):\n",
    "            optimizer.zero_grad()\n",
    "            \n",
    "            indices = shuffled_indices[count: count+bs]\n",
    "            minibatch_data = train_data[indices]\n",
    "            minibatch_label = train_label[indices]\n",
    "            \n",
    "            minibatch_data = minibatch_data.to(device)\n",
    "            minibatch_label = minibatch_label.to(device)\n",
    "            \n",
    "            if normalize:\n",
    "                minibatch_data = (minibatch_data - mean) / std\n",
    "            \n",
    "            minibatch_data.requires_grad_()\n",
    "            \n",
    "            scores = model(minibatch_data)\n",
    "            loss = criterion(scores, minibatch_label)\n",
    "            loss.backward()\n",
    "            optimizer.step()\n",
    "            \n",
    "            epoch_loss += loss.detach().item()\n",
    "            epoch_accuracy += get_accuracy(scores, minibatch_label).item()\n",
    "        \n",
    "        accuracies[epoch] = epoch_accuracy/num_batches\n",
    "        \n",
    "        losses[epoch] = epoch_loss/num_batches\n",
    "        \n",
    "        if epoch % 10 == 9:\n",
    "            elapsed = time.time() - start\n",
    "            print(f'Epoch = {epoch}, Time = {elapsed/60:.3f}min, \\\n",
    "              Loss={losses[epoch]:.3f}, Accuracy={accuracies[epoch]*100:.3f}%')\n",
    "    \n",
    "    return model, accuracies, losses"
   ]
  },
  {
   "cell_type": "code",
   "execution_count": 11,
   "id": "5d906581",
   "metadata": {},
   "outputs": [],
   "source": [
    "def test_model(model, test_data, test_label, \n",
    "               bs=100, normalize=True):\n",
    "    \n",
    "    accuracy = 0\n",
    "    test_size = test_label.size(0)\n",
    "    num_batches = (test_size // bs) + 1\n",
    "    \n",
    "    mean = train_data.mean()\n",
    "    mean = mean.to(device)\n",
    "    std = train_data.std()\n",
    "    std = std.to(device)\n",
    "    \n",
    "    for count in range(0, test_size, bs):\n",
    "        minibatch_data = test_data[count: count+bs]\n",
    "        minibatch_label = test_label[count: count+bs]\n",
    "        \n",
    "        minibatch_data = minibatch_data.to(device)\n",
    "        minibatch_label = minibatch_label.to(device)\n",
    "        \n",
    "        if normalize:\n",
    "            minibatch_data = (minibatch_data - mean) / std\n",
    "        \n",
    "        scores = model(minibatch_data)\n",
    "        accuracy += get_accuracy(scores, minibatch_label).item()\n",
    "    \n",
    "    accuracy = accuracy / num_batches\n",
    "    return accuracy"
   ]
  },
  {
   "cell_type": "code",
   "execution_count": 12,
   "id": "bc47ffb0",
   "metadata": {},
   "outputs": [],
   "source": [
    "def plot_accuracies(train_accuracy, test_accuracy):\n",
    "    plt.plot(train_accuracy, label='Train Accuracy')\n",
    "    plt.plot(test_accuracy * np.ones(train_accuracy.shape), label='Test Accuracy')\n",
    "    plt.legend()\n",
    "    plt.show()"
   ]
  },
  {
   "cell_type": "code",
   "execution_count": 13,
   "id": "daa83c8b",
   "metadata": {},
   "outputs": [],
   "source": [
    "from sklearn.metrics import accuracy_score\n",
    "from sklearn.metrics import precision_score\n",
    "from sklearn.metrics import recall_score\n",
    "from sklearn.metrics import f1_score\n",
    "from sklearn.metrics import cohen_kappa_score\n",
    "from sklearn.metrics import roc_auc_score\n",
    "from sklearn.metrics import confusion_matrix"
   ]
  },
  {
   "cell_type": "code",
   "execution_count": 14,
   "id": "6ae9fb6c",
   "metadata": {},
   "outputs": [],
   "source": [
    "def get_metrics(model, test_data, test_label, device):\n",
    "    \n",
    "    test_size = test_label.size(0)\n",
    "    \n",
    "    mean = test_data.mean()\n",
    "    mean = mean.to(device)\n",
    "    std = test_data.std()\n",
    "    std = std.to(device)\n",
    "    accuracy = 0\n",
    "    precision = 0\n",
    "    recall = 0\n",
    "    f1 = 0\n",
    "    \n",
    "    inputs = test_data.to(device)\n",
    "    test_label = test_label.to(device)\n",
    "    inputs = (inputs - mean) / std\n",
    "    scores = model(inputs)  \n",
    "    predicted_label = scores.cpu().argmax(dim=1).detach().numpy()\n",
    "    test_labels = test_label.cpu().detach().numpy()\n",
    "    \n",
    "    accuracy += accuracy_score(predicted_label, test_label)\n",
    "    precision += precision_score(predicted_label, test_label, average = 'weighted')\n",
    "    recall += recall_score(predicted_label, test_label, average = 'weighted')\n",
    "    f1 += f1_score(predicted_label, test_label, average = 'weighted')\n",
    "    \n",
    "    return accuracy, precision, recall, f1"
   ]
  },
  {
   "cell_type": "markdown",
   "id": "9cccfb1e",
   "metadata": {},
   "source": [
    "We had planned to use k-fold to do hyper parmas searching, but it ended up requiring too much memory and there was insufficient time for us to find a solution, so we decided to not include it in the report."
   ]
  },
  {
   "cell_type": "code",
   "execution_count": 15,
   "id": "8646ed75",
   "metadata": {},
   "outputs": [],
   "source": [
    "def reset_weights(m):\n",
    "    if isinstance(m, nn.Conv2d) or isinstance(m, nn.Linear):\n",
    "        m.reset_parameters()\n",
    "        \n",
    "def k_fold(model, k, train_data, train_label, criterion, device, epochs):\n",
    "    cv = 0\n",
    "    size = train_label.size\n",
    "    model.apply(reset_weights)\n",
    "    shuffled_indices = torch.randperm(size)\n",
    "    \n",
    "    for i in range(k):\n",
    "        test_indices = shuffled_indices[i*(size//k): (i+1)*(size//k)]\n",
    "        train_indices = torch.cat((shuffled_indices[: i*(size//k)], \\\n",
    "                                   shuffled_indices[(i+1)*(size//k):]), axis=0)\n",
    "        \n",
    "        train_data_k = train_data[train_indices]\n",
    "        train_label_k = train_label[train_indices]\n",
    "        test_data_k = train_data[test_indices]\n",
    "        test_label_k = train_label[test_indices]\n",
    "        \n",
    "        model, train_accuracy, train_loss = \\\n",
    "            train_model(model, criterion, train_data_k, train_label_k)\n",
    "        \n",
    "        cv += test_model(model, test_data_k, test_label_k)\n",
    "    \n",
    "    return cv/k"
   ]
  },
  {
   "cell_type": "markdown",
   "id": "a7123523",
   "metadata": {},
   "source": [
    "### Vanilla CNN\n",
    "\n",
    "We will begin with a simple CNN model, with 1 convolutional and linear layer each"
   ]
  },
  {
   "cell_type": "code",
   "execution_count": 16,
   "id": "125dd2aa",
   "metadata": {},
   "outputs": [],
   "source": [
    "import torch.nn as nn\n",
    "import time\n",
    "import numpy as np\n",
    "from matplotlib import pyplot as plt\n",
    "\n",
    "device = torch.device('cuda')"
   ]
  },
  {
   "cell_type": "code",
   "execution_count": 17,
   "id": "b89f464c",
   "metadata": {},
   "outputs": [],
   "source": [
    "size = np.array([224, 224])\n",
    "\n",
    "class Vanilla_CNN(nn.Module):\n",
    "    \n",
    "    def __init__(self, hidden_dim, output_dim):\n",
    "        super(Vanilla_CNN, self).__init__()\n",
    "        \n",
    "        self.linear_dim = hidden_dim*size.prod()\n",
    "        self.conv = nn.Conv2d(3, hidden_dim, kernel_size=3, padding=1)\n",
    "        self.linear = nn.Linear(self.linear_dim, output_dim)\n",
    "    \n",
    "    def forward(self, x):\n",
    "        # 3 x 224 x 224 -> hidden_dim x 224 x 224\n",
    "        x = self.conv(x)\n",
    "        x = torch.relu(x)\n",
    "        # hidden_dim x 224 x 224 -> hidden_dim*224*224\n",
    "        x = x.view(-1, self.linear_dim)\n",
    "        # hidden_dim*224*224 -> 9\n",
    "        x = self.linear(x)\n",
    "        return x"
   ]
  },
  {
   "cell_type": "code",
   "execution_count": 18,
   "id": "efa26e78",
   "metadata": {},
   "outputs": [],
   "source": [
    "van_net = Vanilla_CNN(32, 9)\n",
    "van_net = van_net.to(device)\n",
    "criterion = nn.CrossEntropyLoss()"
   ]
  },
  {
   "cell_type": "code",
   "execution_count": null,
   "id": "de4bd3e1",
   "metadata": {},
   "outputs": [],
   "source": [
    "van_net, train_accuracy, train_loss = \\\n",
    "    train_model(van_net, criterion, train_data, train_label, epochs=100, lr=0.2)"
   ]
  },
  {
   "cell_type": "code",
   "execution_count": null,
   "id": "d30425c9",
   "metadata": {},
   "outputs": [],
   "source": [
    "test_accuracy = test_model(van_net, test_data, test_label)\n",
    "print(test_accuracy)"
   ]
  },
  {
   "cell_type": "code",
   "execution_count": null,
   "id": "c37f1785",
   "metadata": {},
   "outputs": [],
   "source": [
    "plot_accuracies(train_accuracy, test_accuracy)"
   ]
  },
  {
   "cell_type": "markdown",
   "id": "db3bf47a",
   "metadata": {},
   "source": [
    "### Simplification of the problem\n",
    "\n",
    "After consulting out TA on why our test error is still high even though our training loss was low, we were advised to simplify our problem into a 5-class classification where we classified images with at most 4 people."
   ]
  },
  {
   "cell_type": "code",
   "execution_count": null,
   "id": "5b95a809",
   "metadata": {},
   "outputs": [],
   "source": [
    "mask_train = train_label <= 4\n",
    "mask_test = test_label <= 4\n",
    "\n",
    "\n",
    "train_label_2 = train_label[mask_train]\n",
    "train_data_2 = train_data[mask_train]\n",
    "test_label_2 = test_label[mask_test]\n",
    "test_data_2 = test_data[mask_test]"
   ]
  },
  {
   "cell_type": "code",
   "execution_count": null,
   "id": "6c9b0e10",
   "metadata": {},
   "outputs": [],
   "source": [
    "print(train_data_2.shape)\n",
    "print(test_data_2.shape)"
   ]
  },
  {
   "cell_type": "code",
   "execution_count": null,
   "id": "854ef14f",
   "metadata": {},
   "outputs": [],
   "source": [
    "van_net = Vanilla_CNN(32, 5)\n",
    "van_net = van_net.to(device)\n",
    "criterion = nn.CrossEntropyLoss()"
   ]
  },
  {
   "cell_type": "code",
   "execution_count": null,
   "id": "9a61e3d6",
   "metadata": {},
   "outputs": [],
   "source": [
    "van_net, train_accuracy, train_loss = \\\n",
    "    train_model(van_net, criterion, train_data_2, train_label_2, epochs=100, lr=0.2)"
   ]
  },
  {
   "cell_type": "code",
   "execution_count": null,
   "id": "8f078813",
   "metadata": {},
   "outputs": [],
   "source": [
    "test_accuracy = test_model(van_net, test_data_2, test_label_2)\n",
    "print(test_accuracy)"
   ]
  },
  {
   "cell_type": "code",
   "execution_count": null,
   "id": "b00423e1",
   "metadata": {},
   "outputs": [],
   "source": [
    "plot_accuracies(train_accuracy, test_accuracy)"
   ]
  },
  {
   "cell_type": "markdown",
   "id": "12d238c5",
   "metadata": {},
   "source": [
    "Noting that there was not a significant increase in performance, we tried to add more layers to the Vanilla CNN (4 convolutional layers) and we set the hidden_dim to be a hyperparameter. The idea behind using 4 layers is because of hierarichal features, as layer 3 is the minimum to guarantee complex features, we decided to go with 4 because clearly people counting is as complex if not more complex than normal image identification."
   ]
  },
  {
   "cell_type": "code",
   "execution_count": null,
   "id": "99162cbf",
   "metadata": {},
   "outputs": [],
   "source": [
    "class new_Vanilla_CNN(nn.Module):\n",
    "    \n",
    "    def __init__(self, hidden_dim, output_dim):\n",
    "        super(new_Vanilla_CNN, self).__init__()\n",
    "        \n",
    "        self.linear_dim = hidden_dim*8*14*14\n",
    "        self.conv1 = nn.Conv2d(3, hidden_dim, kernel_size=3, padding=1)\n",
    "        self.conv2 = nn.Conv2d(hidden_dim, hidden_dim * 2, kernel_size=3, padding=1)\n",
    "        self.conv3 = nn.Conv2d(hidden_dim * 2, hidden_dim * 4, kernel_size=3, padding=1)\n",
    "        self.conv4 = nn.Conv2d(hidden_dim * 4, hidden_dim * 8, kernel_size=3, padding=1)\n",
    "        self.linear = nn.Linear(self.linear_dim, output_dim)\n",
    "        self.pool1 = nn.MaxPool2d(2,2)\n",
    "        self.pool2 = nn.MaxPool2d(2,2)\n",
    "        self.pool3 = nn.MaxPool2d(2,2)\n",
    "        self.pool4 = nn.MaxPool2d(2,2)\n",
    "    \n",
    "    def forward(self, x):\n",
    "        # 3 x 224 x 224 -> hidden_dim x 112 x 112\n",
    "        x = self.conv1(x)\n",
    "        x = torch.relu(x)\n",
    "        x = self.pool1(x)\n",
    "        # hidden_dim x 112 x 112 -> hidden_dim * 2 x 56 x 56\n",
    "        x = self.conv2(x)\n",
    "        x = torch.relu(x)\n",
    "        x = self.pool2(x)\n",
    "        # hidden_dim * 2 x 56 x 56 -> hidden_dim * 4 x 28 x 28\n",
    "        x = self.conv3(x)\n",
    "        x = torch.relu(x)\n",
    "        x = self.pool3(x)\n",
    "        # hidden_dim * 4 x 28 x 28 -> hidden_dim * 8 x 14 x 14\n",
    "        x = self.conv4(x)\n",
    "        x = torch.relu(x)\n",
    "        x = self.pool4(x)\n",
    "        # hidden_dim * 8 x 14 x 14 -> hidden_dim*8*14*14\n",
    "        x = x.view(-1, self.linear_dim)\n",
    "        # hidden_dim*8*14*14 -> 9\n",
    "        x = self.linear(x)\n",
    "        return x"
   ]
  },
  {
   "cell_type": "code",
   "execution_count": null,
   "id": "e0fd9263",
   "metadata": {},
   "outputs": [],
   "source": [
    "new_van_net = new_Vanilla_CNN(32, 5)\n",
    "new_van_net = new_van_net.to(device)\n",
    "criterion = nn.CrossEntropyLoss()"
   ]
  },
  {
   "cell_type": "code",
   "execution_count": null,
   "id": "b4a8779b",
   "metadata": {},
   "outputs": [],
   "source": [
    "new_van_net, train_accuracy, train_loss = \\\n",
    "    train_model(new_van_net, criterion, train_data_2, train_label_2, epochs=100, lr=0.2)"
   ]
  },
  {
   "cell_type": "code",
   "execution_count": null,
   "id": "0a9db1b4",
   "metadata": {},
   "outputs": [],
   "source": [
    "test_accuracy = test_model(new_van_net, test_data_2, test_label_2)\n",
    "print(test_accuracy)"
   ]
  },
  {
   "cell_type": "code",
   "execution_count": null,
   "id": "2a48919d",
   "metadata": {},
   "outputs": [],
   "source": [
    "plot_accuracies(train_accuracy, test_accuracy)"
   ]
  },
  {
   "cell_type": "markdown",
   "id": "809f0d7f",
   "metadata": {},
   "source": [
    "### Multi-column CNN (MCNN)\n",
    "\n",
    "Observing that there was not much improvement in the performance of the model, we try a Multi-column CNN which should perform better than a vanilla CNN."
   ]
  },
  {
   "cell_type": "code",
   "execution_count": 49,
   "id": "7a098881",
   "metadata": {},
   "outputs": [],
   "source": [
    "class MCNN(nn.Module):\n",
    "    \n",
    "    def __init__(self, hidden1, hidden2, hidden3, output_dim):\n",
    "        super(MCNN, self).__init__()\n",
    "        \n",
    "        self.linear_dim = 56**2\n",
    "        \n",
    "        self.linear = nn.Linear(self.linear_dim, output_dim)\n",
    "        \n",
    "        self.branch1 = nn.Sequential(nn.Conv2d(3, hidden1, kernel_size= 9, padding=4),\n",
    "                                     nn.MaxPool2d(2,2),\n",
    "                                     nn.Conv2d(hidden1, hidden1*2, kernel_size= 7, padding=3),\n",
    "                                     nn.MaxPool2d(2,2),\n",
    "                                     nn.Conv2d(hidden1*2, hidden1, kernel_size= 7, padding=3),\n",
    "                                     nn.Conv2d(hidden1,  hidden1//2, kernel_size= 7, padding=3))\n",
    "        \n",
    "        self.branch2 = nn.Sequential(nn.Conv2d(3, hidden2, kernel_size= 7, padding=3),\n",
    "                                     nn.MaxPool2d(2,2),\n",
    "                                     nn.Conv2d(hidden2, hidden2*2, kernel_size= 5 ,padding=2),\n",
    "                                     nn.MaxPool2d(2,2),\n",
    "                                     nn.Conv2d(hidden2*2, hidden2, kernel_size= 5 ,padding=2),\n",
    "                                     nn.Conv2d(hidden2, hidden2//2, kernel_size= 5 ,padding=2))\n",
    "        \n",
    "        self.branch3 = nn.Sequential(nn.Conv2d(3, hidden3, kernel_size= 5 ,padding=2),\n",
    "                                     nn.MaxPool2d(2,2),\n",
    "                                     nn.Conv2d(hidden3, hidden3*2, kernel_size= 3 ,padding=1),\n",
    "                                     nn.MaxPool2d(2,2),\n",
    "                                     nn.Conv2d(hidden3*2, hidden3, kernel_size= 3 ,padding=1),\n",
    "                                     nn.Conv2d(hidden3, hidden3//2, kernel_size= 3 ,padding=1))\n",
    "        \n",
    "        self.fuse = nn.Sequential(nn.Conv2d((hidden1+hidden2+hidden3)//2, 1, kernel_size= 1, padding=0))\n",
    "        \n",
    "    def forward(self, x):\n",
    "        x1 = self.branch1(x)\n",
    "        x2 = self.branch2(x)\n",
    "        x3 = self.branch3(x)\n",
    "        x = torch.cat((x1,x2,x3), 1)\n",
    "        x = self.fuse(x)\n",
    "        x = torch.relu(x)\n",
    "        x = x.view(-1, self.linear_dim)\n",
    "        x = self.linear(x)\n",
    "        return x\n"
   ]
  },
  {
   "cell_type": "code",
   "execution_count": 50,
   "id": "a6804bdc",
   "metadata": {},
   "outputs": [],
   "source": [
    "m_net = MCNN(16, 20, 24, 5)\n",
    "m_net = m_net.to(device)\n",
    "criterion = nn.CrossEntropyLoss()"
   ]
  },
  {
   "cell_type": "code",
   "execution_count": null,
   "id": "cbe2a940",
   "metadata": {},
   "outputs": [],
   "source": [
    "m_net, train_accuracy, train_loss = \\\n",
    "    train_model(m_net, criterion, train_data_2, train_label_2, epochs=20, lr=0.2)"
   ]
  },
  {
   "cell_type": "code",
   "execution_count": null,
   "id": "4e40dee7",
   "metadata": {},
   "outputs": [],
   "source": [
    "test_accuracy = test_model(m_net, test_data_2, test_label_2)\n",
    "print(test_accuracy)"
   ]
  },
  {
   "cell_type": "code",
   "execution_count": null,
   "id": "3eb85d10",
   "metadata": {},
   "outputs": [],
   "source": [
    "plot_accuracies(train_accuracy, test_accuracy)"
   ]
  },
  {
   "cell_type": "markdown",
   "id": "f847552c",
   "metadata": {},
   "source": [
    "## Object Detection / Image Segmentation\n",
    "\n",
    "The main goals of this step is to\n",
    "1. Perform a Faster-RCNN\n",
    "2. Test for the accuracy of this model compared to the network we created, for the purpose of the research of future improvements that can be integrated into our network to improve the accuracy rates\n",
    "\n",
    "At this point, we realised that the most probable reason that the network still failed was due to it being a normal CNN and not object detection model.\n",
    "1. Counting people would first require the network to identify which sections have people, and then from there count how many people. \n",
    "2. Our data is not labelled with bounding boxes due to time constraint and difficulty in labelling so many images with just 3 people, we have decided to try use a pretrained object detector model and from there use its results to count the number of people."
   ]
  },
  {
   "cell_type": "code",
   "execution_count": null,
   "id": "2cd2a756",
   "metadata": {},
   "outputs": [],
   "source": [
    "!pip install pyyaml==5.1\n",
    "\n",
    "import torch\n",
    "TORCH_VERSION = \".\".join(torch.__version__.split(\".\")[:2])\n",
    "CUDA_VERSION = torch.__version__.split(\"+\")[-1]\n",
    "print(\"torch: \", TORCH_VERSION, \"; cuda: \", CUDA_VERSION)\n",
    "# Install detectron2 that matches the above pytorch version\n",
    "# See https://detectron2.readthedocs.io/tutorials/install.html for instructions\n",
    "!pip install detectron2 -f https://dl.fbaipublicfiles.com/detectron2/wheels/$CUDA_VERSION/torch$TORCH_VERSION/index.html\n",
    "# If there is not yet a detectron2 release that matches the given torch + CUDA version, you need to install a different pytorch.\n",
    "\n",
    "#exit(0)  # After installation, you may need to \"restart runtime\" in Colab. This line can also restart runtime"
   ]
  },
  {
   "cell_type": "code",
   "execution_count": null,
   "id": "a5c9c338",
   "metadata": {},
   "outputs": [],
   "source": [
    "# Some basic setup:\n",
    "# Setup detectron2 logger\n",
    "import detectron2\n",
    "import time\n",
    "import matplotlib.pyplot as plt\n",
    "from detectron2.utils.logger import setup_logger\n",
    "setup_logger()\n",
    "\n",
    "# import some common libraries\n",
    "import numpy as np\n",
    "import os, json, cv2, random\n",
    "#from google.colab.patches import cv2_imshow\n",
    "\n",
    "# import some common detectron2 utilities\n",
    "from detectron2 import model_zoo\n",
    "from detectron2.engine import DefaultPredictor\n",
    "from detectron2.config import get_cfg\n",
    "from detectron2.utils.visualizer import Visualizer\n",
    "from detectron2.data import MetadataCatalog, DatasetCatalog"
   ]
  },
  {
   "cell_type": "code",
   "execution_count": null,
   "id": "b6bdb665",
   "metadata": {},
   "outputs": [],
   "source": [
    "import os\n",
    "if not os.path.exists('./dataset_png'):\n",
    "    !wget https://github.com/ClementNgZiQian/CS4243_2122S2_Project/releases/download/v1.0/dataset_png.zip \n",
    "    !unzip dataset_png.zip > /dev/null"
   ]
  },
  {
   "cell_type": "code",
   "execution_count": null,
   "id": "c4801d52",
   "metadata": {},
   "outputs": [],
   "source": [
    "def detectron_count(predictor, base_folder, class_number):\n",
    "    \n",
    "    batch_folders = os.listdir(base_folder)\n",
    "    correct = 0\n",
    "    total_size = 0\n",
    "    for folder in batch_folders:\n",
    "        folder_path = f'{base_folder}/{folder}'\n",
    "        images = os.listdir(folder_path)\n",
    "        labels_path = folder_path.replace('data', 'labels') + '.pt'\n",
    "        labels = torch.load(labels_path)\n",
    "        total_size += len(labels)\n",
    "        for im_path, label in zip(images, labels):\n",
    "            im = cv2.imread(f'{folder_path}/{im_path}')\n",
    "        \n",
    "            outputs = predictor(im)\n",
    "            preds = outputs['instances'].pred_classes.to('cpu')\n",
    "            count = torch.count_nonzero(preds == class_number)  \n",
    "            correct += (count == label)\n",
    "\n",
    "    accuracy = (correct/total_size) * 100\n",
    "    return accuracy"
   ]
  },
  {
   "cell_type": "code",
   "execution_count": null,
   "id": "d56fd692",
   "metadata": {},
   "outputs": [],
   "source": [
    "def run_inf(pre_trained, ROI):\n",
    "    cfg = get_cfg()\n",
    "    cfg.merge_from_file(model_zoo.get_config_file(pre_trained))\n",
    "    cfg.MODEL.ROI_HEADS.SCORE_THRESH_TEST = ROI  # set threshold for this model\n",
    "    cfg.MODEL.WEIGHTS = model_zoo.get_checkpoint_url(pre_trained)\n",
    "    predictor = DefaultPredictor(cfg)\n",
    "    train_accuracy = detectron_count(predictor, './dataset_png/train_data', 0)\n",
    "    test_accuracy = detectron_count(predictor, './dataset_png/test_data', 0)\n",
    "    return train_accuracy, test_accuracy"
   ]
  },
  {
   "cell_type": "code",
   "execution_count": null,
   "id": "236bc205",
   "metadata": {},
   "outputs": [],
   "source": [
    "def plot_accuracies_detectron(test_accuracy, train_accuracy):\n",
    "    plt.plot(train_accuracy * np.ones(10), label='Train Accuracy')\n",
    "    plt.plot(test_accuracy * np.ones(10), label='Test Accuracy')\n",
    "    plt.legend()\n",
    "    plt.show()"
   ]
  },
  {
   "cell_type": "code",
   "execution_count": null,
   "id": "97948c9a",
   "metadata": {},
   "outputs": [],
   "source": [
    "!rmdir './dataset_png/train_labels/.ipynb_checkpoints'\n",
    "!rmdir './dataset_png/test_labels/.ipynb_checkpoints'"
   ]
  },
  {
   "cell_type": "markdown",
   "id": "93da53bb",
   "metadata": {},
   "source": [
    "#### Running Inference using - **COCO-InstanceSegmentation/mask_rcnn_R_50_FPN_3x.yaml**\n",
    "\n",
    "We create a detectron2 config and a detectron2 `DefaultPredictor` to run inference on image."
   ]
  },
  {
   "cell_type": "code",
   "execution_count": null,
   "id": "24f5fa00",
   "metadata": {},
   "outputs": [],
   "source": [
    "ROI = 0.5\n",
    "start = time.time()\n",
    "accuracy_detectron_2train, accuracy_detectron_2test = \\\n",
    "        run_inf(\"COCO-InstanceSegmentation/mask_rcnn_R_50_FPN_3x.yaml\", ROI)\n",
    "end = time.time()\n",
    "print(f'Train set accuracy = {accuracy_detectron_2train:.3f}%, \\\n",
    "    Test set accuracy = {accuracy_detectron_2test:.3f}%, \\\n",
    "    time taken = {(end - start)/60:.3f}mins')"
   ]
  },
  {
   "cell_type": "code",
   "execution_count": null,
   "id": "bd6fcc48",
   "metadata": {},
   "outputs": [],
   "source": [
    "plot_accuracies_detectron(accuracy_detectron_2test/100, accuracy_detectron_2train/100)"
   ]
  },
  {
   "cell_type": "markdown",
   "id": "b15f708f",
   "metadata": {},
   "source": [
    "#### Running Inference using - **COCO-InstanceSegmentation/mask_rcnn_X_101_32x8d_FPN_3x.yaml**\n",
    "\n",
    "We create a detectron2 config and a detectron2 `DefaultPredictor` to run inference on image."
   ]
  },
  {
   "cell_type": "code",
   "execution_count": null,
   "id": "4c3831ac",
   "metadata": {},
   "outputs": [],
   "source": [
    "ROI = 0.5\n",
    "start = time.time()\n",
    "accuracy_detectron_2train, accuracy_detectron_2test = \\\n",
    "        run_inf(\"COCO-InstanceSegmentation/mask_rcnn_X_101_32x8d_FPN_3x.yaml\", ROI)\n",
    "end = time.time()\n",
    "print(f'Train set accuracy = {accuracy_detectron_2train:.3f}%, \\\n",
    "    Test set accuracy = {accuracy_detectron_2test:.3f}%, \\\n",
    "    time taken = {(end - start)/60:.3f}mins')"
   ]
  },
  {
   "cell_type": "code",
   "execution_count": null,
   "id": "c381cfe8",
   "metadata": {},
   "outputs": [],
   "source": [
    "plot_accuracies_detectron(accuracy_detectron_2test/100, accuracy_detectron_2train/100)"
   ]
  },
  {
   "cell_type": "markdown",
   "id": "bc598ce5",
   "metadata": {},
   "source": [
    "## Our conclusion:\n",
    "\n",
    "From the results above, it shows the image segmentation model giving much higher accuracy rates, which were around 59-64%, as compared to the other networks which were trained on our dataset, which gave lower accuracy rates of around 20%. From here, our team has concluded that image segmentation model could be integrated into our future implementations as part of the solution to our intial problem.\n",
    "\n",
    "Additionally, the results displayed above has shown a higher accuracy rate for the 2nd model, which  as compared to the 1st model. From here, our team learned that the difference in learning rate schedules affects the accuracy rates predicted by the model. The results has shown that the models trained with a higher number of epochs/iterations gave predictions with higher accuracy rates."
   ]
  }
 ],
 "metadata": {
  "kernelspec": {
   "display_name": "Python 3 (ipykernel)",
   "language": "python",
   "name": "python3"
  },
  "language_info": {
   "codemirror_mode": {
    "name": "ipython",
    "version": 3
   },
   "file_extension": ".py",
   "mimetype": "text/x-python",
   "name": "python",
   "nbconvert_exporter": "python",
   "pygments_lexer": "ipython3",
   "version": "3.7.10"
  }
 },
 "nbformat": 4,
 "nbformat_minor": 5
}
