{
  "cells": [
    {
      "cell_type": "markdown",
      "id": "58728b43",
      "metadata": {
        "id": "58728b43"
      },
      "source": [
        "# CS4243 Project\n",
        "\n",
        "1. Clement Ng\n",
        "2. Kimberley Tay\n",
        "3. Wayne Tan"
      ]
    },
    {
      "cell_type": "markdown",
      "id": "eabb19b4",
      "metadata": {
        "id": "eabb19b4"
      },
      "source": [
        "## Scraping dataset\n",
        "\n",
        "1. Images are scraped from google images, duckduckgo images, and unsplash.\n",
        "2. They are then manually labelled by us."
      ]
    },
    {
      "cell_type": "code",
      "execution_count": null,
      "id": "5a950afd",
      "metadata": {
        "scrolled": true,
        "id": "5a950afd"
      },
      "outputs": [],
      "source": [
        "#from scraper import main\n",
        "\n",
        "#main()"
      ]
    },
    {
      "cell_type": "markdown",
      "id": "87a586a9",
      "metadata": {
        "id": "87a586a9"
      },
      "source": [
        "## Image Preprocessing\n",
        "\n",
        "In this step, we will be taking a look at\n",
        "1. The dataset distribution\n",
        "2. Normalising of dataset\n",
        "3. Saving the dataset in a .pt extension for easily reproducible results"
      ]
    },
    {
      "cell_type": "code",
      "execution_count": null,
      "id": "86e9511e",
      "metadata": {
        "id": "86e9511e"
      },
      "outputs": [],
      "source": [
        "from PIL import Image\n",
        "from torchvision import datasets, transforms\n",
        "from matplotlib import pyplot as plt\n",
        "import numpy as np\n",
        "import seaborn as sns\n",
        "import time, os, torch, shutil"
      ]
    },
    {
      "cell_type": "markdown",
      "id": "468cc33e",
      "metadata": {
        "id": "468cc33e"
      },
      "source": [
        "### Checking sizes of images\n",
        "\n",
        "A few things to note:\n",
        "1. base_folder defines the folder in which all the images are in.\n",
        "2. It is assumed that the images are in their respective folders based on their labels, with the folder name being the label, and all of them are in base_folder."
      ]
    },
    {
      "cell_type": "code",
      "execution_count": null,
      "id": "49470f63",
      "metadata": {
        "id": "49470f63"
      },
      "outputs": [],
      "source": [
        "base_folder = './dataset-raw'\n",
        "classes = os.listdir(base_folder)\n",
        "classes = [int(i) for i in classes]\n",
        "classes.sort()"
      ]
    },
    {
      "cell_type": "code",
      "execution_count": null,
      "id": "0b583cd3",
      "metadata": {
        "id": "0b583cd3"
      },
      "outputs": [],
      "source": [
        "def dataset_stats(classes):\n",
        "    stats = []\n",
        "    paths = []\n",
        "    for class_ in classes:\n",
        "        folder_path = f'{base_folder}/{class_}'\n",
        "        files = os.listdir(folder_path)\n",
        "        files.sort()\n",
        "        for file in files:\n",
        "            file_path = f'{folder_path}/{file}'\n",
        "            im = Image.open(file_path)\n",
        "            size = im.size\n",
        "            stats.append(size + (min(class_, 11), ))\n",
        "            paths.append(file_path)\n",
        "    return np.array(stats), np.array(paths)"
      ]
    },
    {
      "cell_type": "code",
      "execution_count": null,
      "id": "465db8b7",
      "metadata": {
        "id": "465db8b7"
      },
      "outputs": [],
      "source": [
        "stats, paths = dataset_stats(classes)"
      ]
    },
    {
      "cell_type": "code",
      "execution_count": null,
      "id": "d2ce7a17",
      "metadata": {
        "id": "d2ce7a17",
        "outputId": "746b0e96-7c6f-4ecd-cb5b-0e203a5161ef"
      },
      "outputs": [
        {
          "data": {
            "text/plain": [
              "<AxesSubplot:ylabel='Count'>"
            ]
          },
          "execution_count": 6,
          "metadata": {},
          "output_type": "execute_result"
        },
        {
          "data": {
            "image/png": "[encoded data removed]",
            "text/plain": [
              "<Figure size 432x288 with 1 Axes>"
            ]
          },
          "metadata": {
            "needs_background": "light"
          },
          "output_type": "display_data"
        }
      ],
      "source": [
        "sns.histplot(x=stats[:, 2])"
      ]
    },
    {
      "cell_type": "markdown",
      "id": "3f475ce1",
      "metadata": {
        "id": "3f475ce1"
      },
      "source": [
        "We observe that the amount of dataset for label 1 is much higher than the rest, so the measure we have chosen to adopt here is to deploy undersampling. Furthermore, for the labels >6, the quantity of dataset available is alot less than those <=6, and based on our decision that 6 is a good number to cut off. The label choice we have decided on will be [0, 1, 2, 3, 4, 5, 6, 7-10,>10].\n",
        "\n",
        "We have determined that it doesnt make a difference whether there 11 or 12 people in an image, and 6 makes for a size suitable for a small group."
      ]
    },
    {
      "cell_type": "code",
      "execution_count": null,
      "id": "f7c85421",
      "metadata": {
        "id": "f7c85421"
      },
      "outputs": [],
      "source": [
        "def get_ratio(stats):\n",
        "    result = stats[:, 0:2].max(axis=1) / stats[:, 0:2].min(axis=1)\n",
        "    return result"
      ]
    },
    {
      "cell_type": "code",
      "execution_count": null,
      "id": "afbe0c48",
      "metadata": {
        "id": "afbe0c48",
        "outputId": "f648c3ff-a462-45c3-b707-109751262b10"
      },
      "outputs": [
        {
          "data": {
            "text/plain": [
              "<AxesSubplot:ylabel='Count'>"
            ]
          },
          "execution_count": 8,
          "metadata": {},
          "output_type": "execute_result"
        },
        {
          "data": {
            "image/png": "[encoded data removed]",
            "text/plain": [
              "<Figure size 432x288 with 1 Axes>"
            ]
          },
          "metadata": {
            "needs_background": "light"
          },
          "output_type": "display_data"
        }
      ],
      "source": [
        "ratios = get_ratio(stats)\n",
        "sns.histplot(x=ratios)"
      ]
    },
    {
      "cell_type": "markdown",
      "id": "e16f5f8f",
      "metadata": {
        "id": "e16f5f8f"
      },
      "source": [
        "Most of the images lie within a boundary of 1 to 2 in aspect ratios, and since we decided to conduct undersampling for majority classes, we will prioritise keeping the images whose aspect ratio lie in this range. In other words, the images whose aspect ratios lie outside this range will be removed with priority."
      ]
    },
    {
      "cell_type": "code",
      "execution_count": null,
      "id": "f315c138",
      "metadata": {
        "id": "f315c138"
      },
      "outputs": [],
      "source": [
        "size = len(stats)\n",
        "train_proportion = 0.8\n",
        "train_size = int(train_proportion*size)\n",
        "np.random.seed(5)\n",
        "shuffled_indices = np.random.permutation(np.arange(size))\n",
        "train_indices = shuffled_indices[:train_size]\n",
        "test_indices = shuffled_indices[train_size:]\n",
        "train_set_stats = stats[train_indices]"
      ]
    },
    {
      "cell_type": "code",
      "execution_count": null,
      "id": "91507f62",
      "metadata": {
        "id": "91507f62",
        "outputId": "84021f2d-e44a-4c47-94c1-a2b01470015d"
      },
      "outputs": [
        {
          "name": "stdout",
          "output_type": "stream",
          "text": [
            "[339. 249.   2.]\n"
          ]
        }
      ],
      "source": [
        "print(np.median(train_set_stats, axis = 0))"
      ]
    },
    {
      "cell_type": "markdown",
      "id": "d8863db7",
      "metadata": {
        "id": "d8863db7"
      },
      "source": [
        "Since the smaller dimension of the median is 249 and we note that 224 x 224 is a common dimension for images resizing for CNN, we have chosen to adopt 224 x 224 as our dimension for images."
      ]
    },
    {
      "cell_type": "markdown",
      "id": "ca8aed17",
      "metadata": {
        "id": "ca8aed17"
      },
      "source": [
        "### Filtering Images\n",
        "\n",
        "There are images which are very small compared to the size we have have chosen to keep, which is 224x224. So we will filter the images which are less than 1/4 of the desired size for all.\n",
        "\n",
        "Furthermore, since there is a majority of dataset for label 0, 1 and 2, we have decided to undersample it, in the following order:\n",
        "1. Selectively filter based on aspect ratio (so that the amount of black box in the dataset would not be too high.\n",
        "2. Keep filtering until we have approximately equal to the number of datapoints as the next highest class."
      ]
    },
    {
      "cell_type": "code",
      "execution_count": null,
      "id": "1580fe91",
      "metadata": {
        "id": "1580fe91"
      },
      "outputs": [],
      "source": [
        "def filter_small(stats, paths, size=256):\n",
        "    crit_met = np.logical_and(\n",
        "        stats[:, 0] >= size/2, stats[:, 1] >= size/2)\n",
        "    return stats[crit_met], paths[crit_met]"
      ]
    },
    {
      "cell_type": "code",
      "execution_count": null,
      "id": "fdc46f50",
      "metadata": {
        "id": "fdc46f50"
      },
      "outputs": [],
      "source": [
        "stats[(stats[:,2] < 11) & (stats[:, 2] > 6), 2] = 7\n",
        "stats[stats[:,2] >= 11, 2] = 8"
      ]
    },
    {
      "cell_type": "markdown",
      "id": "90bdb5fb",
      "metadata": {
        "id": "90bdb5fb"
      },
      "source": [
        "From here on, label 7 will represent 7-10 people, and label 8 will denote > 10 people"
      ]
    },
    {
      "cell_type": "code",
      "execution_count": null,
      "id": "9a9f0084",
      "metadata": {
        "id": "9a9f0084",
        "outputId": "21146cfd-abfc-49ac-8e2e-e4af138cfab1"
      },
      "outputs": [
        {
          "name": "stdout",
          "output_type": "stream",
          "text": [
            "(9475, 3)\n",
            "(9233, 3) (9233,)\n"
          ]
        },
        {
          "data": {
            "image/png": "[encoded data removed]",
            "text/plain": [
              "<Figure size 432x288 with 1 Axes>"
            ]
          },
          "metadata": {
            "needs_background": "light"
          },
          "output_type": "display_data"
        }
      ],
      "source": [
        "filtered_stats, filtered_paths = filter_small(stats, paths, 224)\n",
        "sns.histplot(x=filtered_stats[:, 2])\n",
        "print(stats.shape)\n",
        "print(filtered_stats.shape, filtered_paths.shape)"
      ]
    },
    {
      "cell_type": "code",
      "execution_count": null,
      "id": "f299ffff",
      "metadata": {
        "scrolled": true,
        "id": "f299ffff"
      },
      "outputs": [],
      "source": [
        "def undersample(stats, paths):\n",
        "    labels = np.unique(stats[:, 2])\n",
        "    count = []\n",
        "    for label in labels:\n",
        "        count.append(np.count_nonzero(stats[:, 2] == label))\n",
        "    count.sort()\n",
        "    \n",
        "    retain = count[-4]\n",
        "    filtered = []\n",
        "    filtered_paths = []\n",
        "    for label in labels:\n",
        "        \n",
        "        # We scale the aspect ratios so that 1 -> 0, then \n",
        "        indices = (stats[:, 2] == label)\n",
        "        stats_temp = stats[indices]\n",
        "        paths_temp = paths[indices]\n",
        "        \n",
        "        ratio = np.abs(get_ratio(stats_temp) - 1)\n",
        "        kept_indices = np.argsort(ratio)[: retain]\n",
        "        filtered.append(stats_temp[kept_indices])\n",
        "        filtered_paths.append(paths_temp[kept_indices])\n",
        "    \n",
        "    filtered = np.concatenate(filtered, axis=0)\n",
        "    filtered_paths = np.concatenate(filtered_paths, axis=0)\n",
        "    return filtered, filtered_paths"
      ]
    },
    {
      "cell_type": "code",
      "execution_count": null,
      "id": "379f99c4",
      "metadata": {
        "id": "379f99c4"
      },
      "outputs": [],
      "source": [
        "images, images_paths = undersample(filtered_stats, filtered_paths)"
      ]
    },
    {
      "cell_type": "code",
      "execution_count": null,
      "id": "29eadada",
      "metadata": {
        "id": "29eadada",
        "outputId": "5d052554-3b0f-46b8-a90a-e1a56daf9ccb"
      },
      "outputs": [
        {
          "data": {
            "text/plain": [
              "<AxesSubplot:ylabel='Count'>"
            ]
          },
          "execution_count": 16,
          "metadata": {},
          "output_type": "execute_result"
        },
        {
          "data": {
            "image/png": "[encoded data removed]",
            "text/plain": [
              "<Figure size 432x288 with 1 Axes>"
            ]
          },
          "metadata": {
            "needs_background": "light"
          },
          "output_type": "display_data"
        }
      ],
      "source": [
        "sns.histplot(x=images[:, 2])"
      ]
    },
    {
      "cell_type": "markdown",
      "id": "77a42aaf",
      "metadata": {
        "id": "77a42aaf"
      },
      "source": [
        "### Normalising Size of images\n",
        "\n",
        "1. We will be reading the images, converting them to the same size of 224x224, by scaling while retaining aspect ratio, then padding to a square with 0s.\n",
        "2. If the original image is larger than 256 on either side, it will be scaled down, else the size will remain the same.\n",
        "3. The dataset will then be saved to a .pt file, and uploaded to a repository so that it can be reproduced easier, instead of uploading all the images as a dataset.\n",
        "4. This step will only be performed on a local computer with the dataset and does not need to be reproduced when reproducing the results."
      ]
    },
    {
      "cell_type": "code",
      "execution_count": null,
      "id": "b1c4ee94",
      "metadata": {
        "id": "b1c4ee94"
      },
      "outputs": [],
      "source": [
        "def make_square(im, size=256):\n",
        "    x, y = im.size\n",
        "    factor = x / y\n",
        "    new_size = (size, size)\n",
        "    if x < y:\n",
        "        new_size = (int(factor*size), size)\n",
        "    elif x > y:\n",
        "        new_size = (size, int(size / factor))\n",
        "    new_im = Image.new('RGB', (size, size), color=0)\n",
        "    new_im.paste(im.resize(new_size),\n",
        "                 (int((size - new_size[0]) / 2), int((size - new_size[1]) / 2)))\n",
        "    return new_im"
      ]
    },
    {
      "cell_type": "code",
      "execution_count": null,
      "id": "a64eb5e5",
      "metadata": {
        "id": "a64eb5e5"
      },
      "outputs": [],
      "source": [
        "def load_dataset(entries, paths, size=256):\n",
        "    transformer = transforms.ToTensor()\n",
        "    dataset = []\n",
        "    labels = []\n",
        "    for entry, file_path in zip(entries, paths):\n",
        "        label = entry[2]\n",
        "        \n",
        "        im = Image.open(file_path)\n",
        "        new_im = make_square(im, size)\n",
        "        \n",
        "        dataset.append(transformer(new_im))\n",
        "        labels.append(label)\n",
        "        \n",
        "    dataset = torch.stack(dataset, dim=0)\n",
        "    labels = torch.tensor(labels)\n",
        "    return dataset, labels"
      ]
    },
    {
      "cell_type": "code",
      "execution_count": null,
      "id": "a106275c",
      "metadata": {
        "id": "a106275c"
      },
      "outputs": [],
      "source": [
        "size = 224\n",
        "dataset, labels = load_dataset(images, images_paths, size)"
      ]
    },
    {
      "cell_type": "code",
      "execution_count": null,
      "id": "f8aaaa7b",
      "metadata": {
        "scrolled": true,
        "id": "f8aaaa7b",
        "outputId": "2a01e04b-696a-4579-ccbc-41c6b9fcdd18"
      },
      "outputs": [
        {
          "data": {
            "text/plain": [
              "torch.Size([6333, 3, 224, 224])"
            ]
          },
          "execution_count": 20,
          "metadata": {},
          "output_type": "execute_result"
        }
      ],
      "source": [
        "dataset.size()"
      ]
    },
    {
      "cell_type": "markdown",
      "id": "4754c38a",
      "metadata": {
        "id": "4754c38a"
      },
      "source": [
        "### Saving as a .pt file\n",
        "\n",
        "The upload limit to github is 100mb per file, so we will save multiple instances."
      ]
    },
    {
      "cell_type": "code",
      "execution_count": null,
      "id": "d4f93fcb",
      "metadata": {
        "id": "d4f93fcb"
      },
      "outputs": [],
      "source": [
        "total_size = dataset.size(0)\n",
        "train_indices = train_indices[train_indices < total_size]\n",
        "test_indices = test_indices[test_indices < total_size]"
      ]
    },
    {
      "cell_type": "code",
      "execution_count": null,
      "id": "932b52ab",
      "metadata": {
        "id": "932b52ab"
      },
      "outputs": [],
      "source": [
        "def save_data(dataset, name, indices):\n",
        "    batch_size = 170\n",
        "    total = indices.size\n",
        "    for count in range(0, total, batch_size):\n",
        "        batch_indices = indices[count: count+batch_size]\n",
        "        batch = None\n",
        "        if 'labels' in name:\n",
        "            batch = dataset[batch_indices]\n",
        "        elif 'data' in name:\n",
        "            batch = dataset[batch_indices, :, :, :]\n",
        "        \n",
        "        if batch != None:\n",
        "            torch.save(batch, \n",
        "                       f'./dataset/{name}/{name}_{(count//batch_size) + 1}.pt')\n",
        "        else:\n",
        "            print('Wrong name given')"
      ]
    },
    {
      "cell_type": "code",
      "execution_count": null,
      "id": "fd56f269",
      "metadata": {
        "id": "fd56f269"
      },
      "outputs": [],
      "source": [
        "save_data(dataset, 'train_data', train_indices)\n",
        "save_data(labels, 'train_labels', train_indices)\n",
        "save_data(dataset, 'test_data', test_indices)\n",
        "save_data(labels, 'test_labels', test_indices)"
      ]
    },
    {
      "cell_type": "markdown",
      "id": "f6710806",
      "metadata": {
        "id": "f6710806"
      },
      "source": [
        "## Training of the model (Basic CNN)\n",
        "\n",
        "The main goals of this step is to\n",
        "1. Perform a Vanilla CNN\n",
        "2. Try to develop a more advanced structure mainly based on the hierarichal features idea taught in class"
      ]
    },
    {
      "cell_type": "markdown",
      "id": "a55786ed",
      "metadata": {
        "id": "a55786ed"
      },
      "source": [
        "### Getting dataset\n",
        "\n",
        "Using the requests module to download the dataset from our repo. (For use when running the notebook from collab where the files have yet to be downloaded)"
      ]
    },
    {
      "cell_type": "code",
      "execution_count": null,
      "id": "7ac791ac",
      "metadata": {
        "id": "7ac791ac"
      },
      "outputs": [],
      "source": [
        "import os, torch"
      ]
    },
    {
      "cell_type": "code",
      "execution_count": null,
      "id": "c4098ed3",
      "metadata": {
        "id": "c4098ed3"
      },
      "outputs": [],
      "source": [
        "files = {\n",
        "    'train_data': [\n",
        "        'https://github.com/ClementNgZiQian/CS4243_2122S2_Project/blob/main/dataset/train_data/train_data_1.pt?raw=true',\n",
        "        30\n",
        "    ],\n",
        "    'train_labels': [\n",
        "        'https://github.com/ClementNgZiQian/CS4243_2122S2_Project/blob/main/dataset/train_labels/train_labels_1.pt?raw=true',\n",
        "        30\n",
        "    ],\n",
        "    'test_data': [\n",
        "        'https://github.com/ClementNgZiQian/CS4243_2122S2_Project/blob/main/dataset/test_data/test_data_1.pt?raw=true',\n",
        "        8\n",
        "    ],\n",
        "    'test_labels': [\n",
        "        'https://github.com/ClementNgZiQian/CS4243_2122S2_Project/blob/main/dataset/test_labels/test_labels_1.pt?raw=true',\n",
        "        8\n",
        "    ],\n",
        "}"
      ]
    },
    {
      "cell_type": "code",
      "execution_count": null,
      "id": "f20699e7",
      "metadata": {
        "id": "f20699e7"
      },
      "outputs": [],
      "source": [
        "import requests\n",
        "base_folder = './dataset'\n",
        "\n",
        "def check_dataset(files):\n",
        "    for type_, info in files.items():\n",
        "        if not os.path.exists(os.path.join(base_folder, type_)):\n",
        "            os.makedirs(os.path.join(base_folder, type_))\n",
        "        url = info[0]\n",
        "        \n",
        "        for i in range(info[-1]):\n",
        "            name = f'{type_}_{i+1}'\n",
        "            file_path = f'{base_folder}/{type_}/{name}.pt'\n",
        "            if not os.path.exists(file_path):\n",
        "                r = requests.get(url.replace(f'{type_}_1', name))\n",
        "                with open(file_path, 'wb') as f:\n",
        "                    f.write(r.content)\n",
        "\n",
        "not_found = check_dataset(files)"
      ]
    },
    {
      "cell_type": "code",
      "execution_count": null,
      "id": "9357ea5b",
      "metadata": {
        "id": "9357ea5b"
      },
      "outputs": [],
      "source": [
        "def load_dataset(type_):\n",
        "    folder = os.path.join(base_folder, type_)\n",
        "    files = os.listdir(folder)\n",
        "    files = [os.path.join(folder, i) for i in files]\n",
        "    files.sort()\n",
        "    result = torch.load(files[0])\n",
        "    for file in files[1:]:\n",
        "        result = torch.cat((result, torch.load(file)), dim=0)\n",
        "    return result"
      ]
    },
    {
      "cell_type": "code",
      "execution_count": null,
      "id": "ea3221d8",
      "metadata": {
        "id": "ea3221d8"
      },
      "outputs": [],
      "source": [
        "train_data = load_dataset('train_data')\n",
        "train_label = load_dataset('train_labels')\n",
        "test_data = load_dataset('test_data')\n",
        "test_label = load_dataset('test_labels')"
      ]
    },
    {
      "cell_type": "code",
      "execution_count": null,
      "id": "5d7cc981",
      "metadata": {
        "id": "5d7cc981",
        "outputId": "3b7b18e8-e1c7-4b64-8a64-3c9c44079b21"
      },
      "outputs": [
        {
          "name": "stdout",
          "output_type": "stream",
          "text": [
            "torch.Size([5091, 3, 224, 224])\n",
            "torch.Size([1242, 3, 224, 224])\n"
          ]
        }
      ],
      "source": [
        "print(train_data.shape)\n",
        "print(test_data.shape)"
      ]
    },
    {
      "cell_type": "markdown",
      "id": "52ab1d82",
      "metadata": {
        "id": "52ab1d82"
      },
      "source": [
        "### Helper functions for training model multiple times"
      ]
    },
    {
      "cell_type": "code",
      "execution_count": null,
      "id": "fa32a204",
      "metadata": {
        "id": "fa32a204"
      },
      "outputs": [],
      "source": [
        "def get_accuracy(scores, labels):\n",
        "    bs = labels.size(0)\n",
        "    predicted_labels = scores.argmax(dim=1)\n",
        "    indicator = (predicted_labels == labels)\n",
        "    num_error = indicator.sum()\n",
        "    return num_error.float()/bs"
      ]
    },
    {
      "cell_type": "code",
      "execution_count": null,
      "id": "295e4e5f",
      "metadata": {
        "id": "295e4e5f"
      },
      "outputs": [],
      "source": [
        "def train_model(model, criterion, train_data, train_label, \n",
        "                epochs, normalize=True, bs=100, lr=0.1):\n",
        "    \n",
        "    #torch.autograd.set_detect_anomaly(True)\n",
        "    start = time.time()\n",
        "    train_size = train_data.size(0)\n",
        "    num_batches = (train_size // bs) + 1\n",
        "    losses = np.zeros([epochs])\n",
        "    accuracies = np.zeros([epochs])\n",
        "    \n",
        "    mean = train_data.mean()\n",
        "    mean = mean.to(device)\n",
        "    std = train_data.std()\n",
        "    std = std.to(device)\n",
        "    \n",
        "    for epoch in range(epochs):\n",
        "        epoch_loss = 0\n",
        "        epoch_accuracy = 0\n",
        "        \n",
        "        if epoch % 10 == 9:\n",
        "            lr = lr / 2\n",
        "        optimizer = torch.optim.Adam(model.parameters(), lr=lr)\n",
        "        shuffled_indices = torch.randperm(train_size)\n",
        "        \n",
        "        for count in range(0, train_size, bs):\n",
        "            optimizer.zero_grad()\n",
        "            \n",
        "            indices = shuffled_indices[count: count+bs]\n",
        "            minibatch_data = train_data[indices]\n",
        "            minibatch_label = train_label[indices]\n",
        "            \n",
        "            minibatch_data = minibatch_data.to(device)\n",
        "            minibatch_label = minibatch_label.to(device)\n",
        "            \n",
        "            if normalize:\n",
        "                minibatch_data = (minibatch_data - mean) / std\n",
        "            \n",
        "            minibatch_data.requires_grad_()\n",
        "            \n",
        "            scores = model(minibatch_data)\n",
        "            loss = criterion(scores, minibatch_label)\n",
        "            loss.backward()\n",
        "            optimizer.step()\n",
        "            \n",
        "            epoch_loss += loss.detach().item()\n",
        "            epoch_accuracy += get_accuracy(scores, minibatch_label).item()\n",
        "        \n",
        "        accuracies[epoch] = epoch_accuracy/num_batches\n",
        "        \n",
        "        losses[epoch] = epoch_loss/num_batches\n",
        "        \n",
        "        if epoch % 10 == 9:\n",
        "            elapsed = time.time() - start\n",
        "            print(f'Epoch = {epoch}, Time = {elapsed/60:.3f}min, \\\n",
        "              Loss={losses[epoch]:.3f}, Accuracy={accuracies[epoch]*100:.3f}%')\n",
        "    \n",
        "    return model, accuracies, losses"
      ]
    },
    {
      "cell_type": "code",
      "execution_count": null,
      "id": "5d906581",
      "metadata": {
        "id": "5d906581"
      },
      "outputs": [],
      "source": [
        "def test_model(model, test_data, test_label, \n",
        "               bs=100, normalize=True):\n",
        "    \n",
        "    accuracy = 0\n",
        "    test_size = test_label.size(0)\n",
        "    num_batches = (test_size // bs) + 1\n",
        "    \n",
        "    mean = train_data.mean()\n",
        "    mean = mean.to(device)\n",
        "    std = train_data.std()\n",
        "    std = std.to(device)\n",
        "    \n",
        "    for count in range(0, test_size, bs):\n",
        "        minibatch_data = test_data[count: count+bs]\n",
        "        minibatch_label = test_label[count: count+bs]\n",
        "        \n",
        "        minibatch_data = minibatch_data.to(device)\n",
        "        minibatch_label = minibatch_label.to(device)\n",
        "        \n",
        "        if normalize:\n",
        "            minibatch_data = (minibatch_data - mean) / std\n",
        "        \n",
        "        scores = model(minibatch_data)\n",
        "        accuracy += get_accuracy(scores, minibatch_label).item()\n",
        "    \n",
        "    accuracy = accuracy / num_batches\n",
        "    return accuracy"
      ]
    },
    {
      "cell_type": "code",
      "execution_count": null,
      "id": "bc47ffb0",
      "metadata": {
        "id": "bc47ffb0"
      },
      "outputs": [],
      "source": [
        "def plot_accuracies(train_accuracy, test_accuracy):\n",
        "    plt.plot(train_accuracy, label='Train Accuracy')\n",
        "    plt.plot(test_accuracy * np.ones(train_accuracy.shape), label='Test Accuracy')\n",
        "    plt.legend()\n",
        "    plt.show()"
      ]
    },
    {
      "cell_type": "code",
      "execution_count": null,
      "id": "daa83c8b",
      "metadata": {
        "id": "daa83c8b"
      },
      "outputs": [],
      "source": [
        "from sklearn.metrics import accuracy_score\n",
        "from sklearn.metrics import precision_score\n",
        "from sklearn.metrics import recall_score\n",
        "from sklearn.metrics import f1_score\n",
        "from sklearn.metrics import cohen_kappa_score\n",
        "from sklearn.metrics import roc_auc_score\n",
        "from sklearn.metrics import confusion_matrix"
      ]
    },
    {
      "cell_type": "code",
      "execution_count": null,
      "id": "6ae9fb6c",
      "metadata": {
        "id": "6ae9fb6c"
      },
      "outputs": [],
      "source": [
        "def get_metrics(model, test_data, test_label, device):\n",
        "    \n",
        "    test_size = test_label.size(0)\n",
        "    \n",
        "    mean = test_data.mean()\n",
        "    mean = mean.to(device)\n",
        "    std = test_data.std()\n",
        "    std = std.to(device)\n",
        "    accuracy = 0\n",
        "    precision = 0\n",
        "    recall = 0\n",
        "    f1 = 0\n",
        "    \n",
        "    inputs = test_data.to(device)\n",
        "    test_label = test_label.to(device)\n",
        "    inputs = (inputs - mean) / std\n",
        "    scores = model(inputs)  \n",
        "    predicted_label = scores.cpu().argmax(dim=1).detach().numpy()\n",
        "    test_labels = test_label.cpu().detach().numpy()\n",
        "    \n",
        "    accuracy += accuracy_score(predicted_label, test_label)\n",
        "    precision += precision_score(predicted_label, test_label, average = 'weighted')\n",
        "    recall += recall_score(predicted_label, test_label, average = 'weighted')\n",
        "    f1 += f1_score(predicted_label, test_label, average = 'weighted')\n",
        "    \n",
        "    return accuracy, precision, recall, f1"
      ]
    },
    {
      "cell_type": "markdown",
      "id": "9cccfb1e",
      "metadata": {
        "id": "9cccfb1e"
      },
      "source": [
        "We had planned to use k-fold to do hyper parmas searching, but it ended up requiring too much memory and there was insufficient time for us to find a solution, so we decided to not include it in the report."
      ]
    },
    {
      "cell_type": "code",
      "execution_count": null,
      "id": "8646ed75",
      "metadata": {
        "id": "8646ed75"
      },
      "outputs": [],
      "source": [
        "def reset_weights(m):\n",
        "    if isinstance(m, nn.Conv2d) or isinstance(m, nn.Linear):\n",
        "        m.reset_parameters()\n",
        "        \n",
        "def k_fold(model, k, train_data, train_label, criterion, device, epochs):\n",
        "    cv = 0\n",
        "    size = train_label.size\n",
        "    model.apply(reset_weights)\n",
        "    shuffled_indices = torch.randperm(size)\n",
        "    \n",
        "    for i in range(k):\n",
        "        test_indices = shuffled_indices[i*(size//k): (i+1)*(size//k)]\n",
        "        train_indices = torch.cat((shuffled_indices[: i*(size//k)], \\\n",
        "                                   shuffled_indices[(i+1)*(size//k):]), axis=0)\n",
        "        \n",
        "        train_data_k = train_data[train_indices]\n",
        "        train_label_k = train_label[train_indices]\n",
        "        test_data_k = train_data[test_indices]\n",
        "        test_label_k = train_label[test_indices]\n",
        "        \n",
        "        model, train_accuracy, train_loss = \\\n",
        "            train_model(model, criterion, train_data_k, train_label_k)\n",
        "        \n",
        "        cv += test_model(model, test_data_k, test_label_k)\n",
        "    \n",
        "    return cv/k"
      ]
    },
    {
      "cell_type": "code",
      "execution_count": null,
      "id": "63cb5a83",
      "metadata": {
        "id": "63cb5a83"
      },
      "outputs": [],
      "source": [
        "def save_model(name, model, train_accuracy):\n",
        "    folder_path = os.path.join('./models', name)\n",
        "    if not os.path.exists(folder_path):\n",
        "        os.makedirs(folder_path)\n",
        "    torch.save(model.state_dict(), os.path.join(folder_path, 'model_state.pt'))\n",
        "    torch.save(train_accuracy, os.path.join(folder_path, 'train_accuracy.pt'))\n",
        "    \n",
        "def load_model(name):\n",
        "    model_state = torch.load(os.path.join('./models', name, 'model_state.pt'))\n",
        "    train_accuracy = torch.load(os.path.join('./models', name, 'train_accuracy.pt'))\n",
        "    return model_state, train_accuracy"
      ]
    },
    {
      "cell_type": "markdown",
      "id": "a7123523",
      "metadata": {
        "id": "a7123523"
      },
      "source": [
        "### Vanilla CNN\n",
        "\n",
        "We will begin with a simple CNN model, with 1 convolutional and linear layer each"
      ]
    },
    {
      "cell_type": "code",
      "execution_count": null,
      "id": "125dd2aa",
      "metadata": {
        "id": "125dd2aa"
      },
      "outputs": [],
      "source": [
        "import torch.nn as nn\n",
        "import time\n",
        "import numpy as np\n",
        "from matplotlib import pyplot as plt\n",
        "\n",
        "device = torch.device('cuda')"
      ]
    },
    {
      "cell_type": "code",
      "execution_count": null,
      "id": "b89f464c",
      "metadata": {
        "id": "b89f464c"
      },
      "outputs": [],
      "source": [
        "size = np.array([224, 224])\n",
        "\n",
        "class Vanilla_CNN(nn.Module):\n",
        "    \n",
        "    def __init__(self, hidden_dim, output_dim):\n",
        "        super(Vanilla_CNN, self).__init__()\n",
        "        \n",
        "        self.linear_dim = hidden_dim*size.prod()\n",
        "        self.conv = nn.Conv2d(3, hidden_dim, kernel_size=3, padding=1)\n",
        "        self.linear = nn.Linear(self.linear_dim, output_dim)\n",
        "    \n",
        "    def forward(self, x):\n",
        "        # 3 x 224 x 224 -> hidden_dim x 224 x 224\n",
        "        x = self.conv(x)\n",
        "        x = torch.relu(x)\n",
        "        # hidden_dim x 224 x 224 -> hidden_dim*224*224\n",
        "        x = x.view(-1, self.linear_dim)\n",
        "        # hidden_dim*224*224 -> 9\n",
        "        x = self.linear(x)\n",
        "        return x"
      ]
    },
    {
      "cell_type": "code",
      "execution_count": null,
      "id": "efa26e78",
      "metadata": {
        "id": "efa26e78",
        "outputId": "5f719267-5e81-4edf-89b9-0d064cc2af82"
      },
      "outputs": [
        {
          "name": "stdout",
          "output_type": "stream",
          "text": [
            "Epoch = 9, Time = 0.822min,               Loss=2.164, Accuracy=14.543%\n",
            "Epoch = 19, Time = 1.530min,               Loss=2.161, Accuracy=13.008%\n",
            "Epoch = 29, Time = 2.237min,               Loss=2.160, Accuracy=13.096%\n",
            "Epoch = 39, Time = 2.945min,               Loss=2.159, Accuracy=13.300%\n",
            "Epoch = 49, Time = 3.654min,               Loss=2.157, Accuracy=13.064%\n",
            "Epoch = 59, Time = 4.362min,               Loss=2.157, Accuracy=14.061%\n",
            "Epoch = 69, Time = 5.072min,               Loss=2.157, Accuracy=14.059%\n",
            "Epoch = 79, Time = 5.782min,               Loss=2.157, Accuracy=14.074%\n",
            "Epoch = 89, Time = 6.490min,               Loss=2.157, Accuracy=14.064%\n",
            "Epoch = 99, Time = 7.205min,               Loss=2.157, Accuracy=14.062%\n"
          ]
        }
      ],
      "source": [
        "net = Vanilla_CNN(32, 9)\n",
        "net = net.to(device)\n",
        "criterion = nn.CrossEntropyLoss()\n",
        "net, train_accuracy, train_loss = \\\n",
        "    train_model(net, criterion, train_data, train_label.long(), epochs=100, lr=0.2)\n",
        "\n",
        "save_model('van_cnn', net, train_accuracy)"
      ]
    },
    {
      "cell_type": "code",
      "execution_count": null,
      "id": "de4bd3e1",
      "metadata": {
        "scrolled": false,
        "id": "de4bd3e1"
      },
      "outputs": [],
      "source": [
        "net = Vanilla_CNN(32, 9)\n",
        "model_state, train_accuracy = load_model('van_cnn')\n",
        "net.load_state_dict(model_state)\n",
        "net = net.to(device)"
      ]
    },
    {
      "cell_type": "code",
      "execution_count": null,
      "id": "d30425c9",
      "metadata": {
        "id": "d30425c9"
      },
      "outputs": [],
      "source": [
        "test_accuracy = 0\n",
        "with torch.no_grad():\n",
        "    test_accuracy = test_model(net, test_data, test_label)"
      ]
    },
    {
      "cell_type": "code",
      "execution_count": null,
      "id": "c37f1785",
      "metadata": {
        "id": "c37f1785",
        "outputId": "afb872aa-5eb0-4479-8f99-e9443cc798e8"
      },
      "outputs": [
        {
          "data": {
            "image/png": "[encoded data removed]",
            "text/plain": [
              "<Figure size 432x288 with 1 Axes>"
            ]
          },
          "metadata": {
            "needs_background": "light"
          },
          "output_type": "display_data"
        }
      ],
      "source": [
        "plot_accuracies(train_accuracy, test_accuracy)"
      ]
    },
    {
      "cell_type": "markdown",
      "id": "db3bf47a",
      "metadata": {
        "id": "db3bf47a"
      },
      "source": [
        "### Simplification of the problem\n",
        "\n",
        "After consulting out TA on why our test error is still high even though our training loss was low, we were advised to simplify our problem into a 5-class classification where we classified images with at most 4 people."
      ]
    },
    {
      "cell_type": "code",
      "execution_count": null,
      "id": "5b95a809",
      "metadata": {
        "id": "5b95a809"
      },
      "outputs": [],
      "source": [
        "mask_train = train_label <= 4\n",
        "mask_test = test_label <= 4\n",
        "\n",
        "\n",
        "train_label_2 = train_label[mask_train]\n",
        "train_data_2 = train_data[mask_train]\n",
        "test_label_2 = test_label[mask_test]\n",
        "test_data_2 = test_data[mask_test]"
      ]
    },
    {
      "cell_type": "code",
      "execution_count": null,
      "id": "6c9b0e10",
      "metadata": {
        "id": "6c9b0e10",
        "outputId": "881b130d-4ccf-4fba-ae14-869df3c02527"
      },
      "outputs": [
        {
          "name": "stdout",
          "output_type": "stream",
          "text": [
            "torch.Size([3480, 3, 224, 224])\n",
            "torch.Size([861, 3, 224, 224])\n"
          ]
        }
      ],
      "source": [
        "print(train_data_2.shape)\n",
        "print(test_data_2.shape)"
      ]
    },
    {
      "cell_type": "code",
      "execution_count": null,
      "id": "854ef14f",
      "metadata": {
        "id": "854ef14f",
        "outputId": "d681a951-9cff-41cd-c7d0-6d32fdf5bf94"
      },
      "outputs": [
        {
          "name": "stdout",
          "output_type": "stream",
          "text": [
            "Epoch = 9, Time = 0.463min,               Loss=1.615, Accuracy=19.757%\n",
            "Epoch = 19, Time = 0.904min,               Loss=1.613, Accuracy=20.329%\n",
            "Epoch = 29, Time = 1.347min,               Loss=1.612, Accuracy=19.643%\n",
            "Epoch = 39, Time = 1.791min,               Loss=1.610, Accuracy=19.793%\n",
            "Epoch = 49, Time = 2.234min,               Loss=1.610, Accuracy=20.579%\n",
            "Epoch = 59, Time = 2.678min,               Loss=1.610, Accuracy=20.543%\n",
            "Epoch = 69, Time = 3.123min,               Loss=1.609, Accuracy=20.557%\n",
            "Epoch = 79, Time = 3.569min,               Loss=1.609, Accuracy=20.564%\n",
            "Epoch = 89, Time = 4.016min,               Loss=1.609, Accuracy=20.543%\n",
            "Epoch = 99, Time = 4.462min,               Loss=1.609, Accuracy=20.564%\n"
          ]
        }
      ],
      "source": [
        "net = Vanilla_CNN(32, 5)\n",
        "net = net.to(device)\n",
        "criterion = nn.CrossEntropyLoss()\n",
        "van_net_2, train_accuracy, train_loss = \\\n",
        "    train_model(net, criterion, train_data_2, train_label_2.long(), epochs=100, lr=0.2)\n",
        "\n",
        "save_model('van_cnn_2', net, train_accuracy)"
      ]
    },
    {
      "cell_type": "code",
      "execution_count": null,
      "id": "9a61e3d6",
      "metadata": {
        "id": "9a61e3d6"
      },
      "outputs": [],
      "source": [
        "net = Vanilla_CNN(32, 5)\n",
        "model_state, train_accuracy = load_model('van_cnn_2')\n",
        "net.load_state_dict(model_state)\n",
        "net = net.to(device)"
      ]
    },
    {
      "cell_type": "code",
      "execution_count": null,
      "id": "8f078813",
      "metadata": {
        "id": "8f078813"
      },
      "outputs": [],
      "source": [
        "test_accuracy = 0\n",
        "with torch.no_grad():\n",
        "    test_accuracy = test_model(net, test_data_2, test_label_2)"
      ]
    },
    {
      "cell_type": "code",
      "execution_count": null,
      "id": "b00423e1",
      "metadata": {
        "id": "b00423e1",
        "outputId": "600d6aa3-5fa4-4746-a66a-567572cb7b5d"
      },
      "outputs": [
        {
          "data": {
            "image/png": "[encoded data removed]",
            "text/plain": [
              "<Figure size 432x288 with 1 Axes>"
            ]
          },
          "metadata": {
            "needs_background": "light"
          },
          "output_type": "display_data"
        }
      ],
      "source": [
        "plot_accuracies(train_accuracy, test_accuracy)"
      ]
    },
    {
      "cell_type": "markdown",
      "id": "12d238c5",
      "metadata": {
        "id": "12d238c5"
      },
      "source": [
        "Noting that there was not a significant increase in performance, we tried to add more layers to the Vanilla CNN (4 convolutional layers) and we set the hidden_dim to be a hyperparameter. The idea behind using 4 layers is because of hierarichal features, as layer 3 is the minimum to guarantee complex features, we decided to go with 4 because clearly people counting is as complex if not more complex than normal image identification."
      ]
    },
    {
      "cell_type": "code",
      "execution_count": null,
      "id": "99162cbf",
      "metadata": {
        "id": "99162cbf"
      },
      "outputs": [],
      "source": [
        "class new_Vanilla_CNN(nn.Module):\n",
        "    \n",
        "    def __init__(self, hidden_dim, output_dim):\n",
        "        super(new_Vanilla_CNN, self).__init__()\n",
        "        \n",
        "        self.linear_dim = hidden_dim*8*14*14\n",
        "        self.conv1 = nn.Conv2d(3, hidden_dim, kernel_size=3, padding=1)\n",
        "        self.conv2 = nn.Conv2d(hidden_dim, hidden_dim * 2, kernel_size=3, padding=1)\n",
        "        self.conv3 = nn.Conv2d(hidden_dim * 2, hidden_dim * 4, kernel_size=3, padding=1)\n",
        "        self.conv4 = nn.Conv2d(hidden_dim * 4, hidden_dim * 8, kernel_size=3, padding=1)\n",
        "        self.linear = nn.Linear(self.linear_dim, output_dim)\n",
        "        self.pool1 = nn.MaxPool2d(2,2)\n",
        "        self.pool2 = nn.MaxPool2d(2,2)\n",
        "        self.pool3 = nn.MaxPool2d(2,2)\n",
        "        self.pool4 = nn.MaxPool2d(2,2)\n",
        "    \n",
        "    def forward(self, x):\n",
        "        # 3 x 224 x 224 -> hidden_dim x 112 x 112\n",
        "        x = self.conv1(x)\n",
        "        x = torch.relu(x)\n",
        "        x = self.pool1(x)\n",
        "        # hidden_dim x 112 x 112 -> hidden_dim * 2 x 56 x 56\n",
        "        x = self.conv2(x)\n",
        "        x = torch.relu(x)\n",
        "        x = self.pool2(x)\n",
        "        # hidden_dim * 2 x 56 x 56 -> hidden_dim * 4 x 28 x 28\n",
        "        x = self.conv3(x)\n",
        "        x = torch.relu(x)\n",
        "        x = self.pool3(x)\n",
        "        # hidden_dim * 4 x 28 x 28 -> hidden_dim * 8 x 14 x 14\n",
        "        x = self.conv4(x)\n",
        "        x = torch.relu(x)\n",
        "        x = self.pool4(x)\n",
        "        # hidden_dim * 8 x 14 x 14 -> hidden_dim*8*14*14\n",
        "        x = x.view(-1, self.linear_dim)\n",
        "        # hidden_dim*8*14*14 -> 9\n",
        "        x = self.linear(x)\n",
        "        return x"
      ]
    },
    {
      "cell_type": "code",
      "execution_count": null,
      "id": "e0fd9263",
      "metadata": {
        "id": "e0fd9263",
        "outputId": "775d48be-3964-408a-a508-7d6c5fbbd661"
      },
      "outputs": [
        {
          "name": "stderr",
          "output_type": "stream",
          "text": [
            "C:\\Users\\Clement Ng\\miniconda3\\envs\\deeplearn_course\\lib\\site-packages\\torch\\nn\\functional.py:718: UserWarning: Named tensors and all their associated APIs are an experimental feature and subject to change. Please do not use them for anything important until they are released as stable. (Triggered internally at  ..\\c10/core/TensorImpl.h:1156.)\n",
            "  return torch.max_pool2d(input, kernel_size, stride, padding, dilation, ceil_mode)\n"
          ]
        },
        {
          "name": "stdout",
          "output_type": "stream",
          "text": [
            "Epoch = 9, Time = 1.002min,               Loss=1.619, Accuracy=18.971%\n",
            "Epoch = 19, Time = 1.981min,               Loss=1.612, Accuracy=21.443%\n",
            "Epoch = 29, Time = 2.977min,               Loss=1.611, Accuracy=19.029%\n",
            "Epoch = 39, Time = 3.982min,               Loss=1.610, Accuracy=19.721%\n",
            "Epoch = 49, Time = 4.988min,               Loss=1.610, Accuracy=19.429%\n",
            "Epoch = 59, Time = 6.006min,               Loss=1.610, Accuracy=19.721%\n",
            "Epoch = 69, Time = 7.030min,               Loss=1.609, Accuracy=20.579%\n",
            "Epoch = 79, Time = 8.051min,               Loss=1.609, Accuracy=20.564%\n",
            "Epoch = 89, Time = 9.080min,               Loss=1.609, Accuracy=20.586%\n",
            "Epoch = 99, Time = 10.113min,               Loss=1.609, Accuracy=20.557%\n"
          ]
        }
      ],
      "source": [
        "net = new_Vanilla_CNN(32, 5)\n",
        "net = net.to(device)\n",
        "criterion = nn.CrossEntropyLoss()\n",
        "net, train_accuracy, train_loss = \\\n",
        "    train_model(net, criterion, train_data_2, train_label_2.long(), epochs=100, lr=0.2)\n",
        "\n",
        "save_model('cnn_4layers', net, train_accuracy)"
      ]
    },
    {
      "cell_type": "code",
      "execution_count": null,
      "id": "b4a8779b",
      "metadata": {
        "id": "b4a8779b"
      },
      "outputs": [],
      "source": [
        "net = new_Vanilla_CNN(32, 5)\n",
        "model_state, train_accuracy = load_model('cnn_4layers')\n",
        "net.load_state_dict(model_state)\n",
        "net = net.to(device)"
      ]
    },
    {
      "cell_type": "code",
      "execution_count": null,
      "id": "0a9db1b4",
      "metadata": {
        "id": "0a9db1b4"
      },
      "outputs": [],
      "source": [
        "test_accuracy = 0\n",
        "with torch.no_grad():\n",
        "    test_accuracy = test_model(net, test_data_2, test_label_2)"
      ]
    },
    {
      "cell_type": "code",
      "execution_count": null,
      "id": "2a48919d",
      "metadata": {
        "id": "2a48919d",
        "outputId": "c2183995-8f21-42d2-ea53-61397432df48"
      },
      "outputs": [
        {
          "data": {
            "image/png": "[encoded data removed]",
            "text/plain": [
              "<Figure size 432x288 with 1 Axes>"
            ]
          },
          "metadata": {
            "needs_background": "light"
          },
          "output_type": "display_data"
        }
      ],
      "source": [
        "plot_accuracies(train_accuracy, test_accuracy)"
      ]
    },
    {
      "cell_type": "markdown",
      "id": "809f0d7f",
      "metadata": {
        "id": "809f0d7f"
      },
      "source": [
        "### Multi-column CNN (MCNN)\n",
        "\n",
        "Observing that there was not much improvement in the performance of the model, we try a Multi-column CNN which should perform better than a vanilla CNN."
      ]
    },
    {
      "cell_type": "code",
      "execution_count": null,
      "id": "7a098881",
      "metadata": {
        "id": "7a098881"
      },
      "outputs": [],
      "source": [
        "class MCNN(nn.Module):\n",
        "    \n",
        "    def __init__(self, hidden1, hidden2, hidden3, output_dim):\n",
        "        super(MCNN, self).__init__()\n",
        "        \n",
        "        self.linear_dim = 56**2\n",
        "        \n",
        "        self.linear = nn.Linear(self.linear_dim, output_dim)\n",
        "        \n",
        "        self.branch1 = nn.Sequential(nn.Conv2d(3, hidden1, kernel_size= 9, padding=4),\n",
        "                                     nn.MaxPool2d(2,2),\n",
        "                                     nn.Conv2d(hidden1, hidden1*2, kernel_size= 7, padding=3),\n",
        "                                     nn.MaxPool2d(2,2),\n",
        "                                     nn.Conv2d(hidden1*2, hidden1, kernel_size= 7, padding=3),\n",
        "                                     nn.Conv2d(hidden1,  hidden1//2, kernel_size= 7, padding=3))\n",
        "        \n",
        "        self.branch2 = nn.Sequential(nn.Conv2d(3, hidden2, kernel_size= 7, padding=3),\n",
        "                                     nn.MaxPool2d(2,2),\n",
        "                                     nn.Conv2d(hidden2, hidden2*2, kernel_size= 5 ,padding=2),\n",
        "                                     nn.MaxPool2d(2,2),\n",
        "                                     nn.Conv2d(hidden2*2, hidden2, kernel_size= 5 ,padding=2),\n",
        "                                     nn.Conv2d(hidden2, hidden2//2, kernel_size= 5 ,padding=2))\n",
        "        \n",
        "        self.branch3 = nn.Sequential(nn.Conv2d(3, hidden3, kernel_size= 5 ,padding=2),\n",
        "                                     nn.MaxPool2d(2,2),\n",
        "                                     nn.Conv2d(hidden3, hidden3*2, kernel_size= 3 ,padding=1),\n",
        "                                     nn.MaxPool2d(2,2),\n",
        "                                     nn.Conv2d(hidden3*2, hidden3, kernel_size= 3 ,padding=1),\n",
        "                                     nn.Conv2d(hidden3, hidden3//2, kernel_size= 3 ,padding=1))\n",
        "        \n",
        "        self.fuse = nn.Sequential(nn.Conv2d((hidden1+hidden2+hidden3)//2, 1, kernel_size= 1, padding=0))\n",
        "        \n",
        "    def forward(self, x):\n",
        "        x1 = self.branch1(x)\n",
        "        x2 = self.branch2(x)\n",
        "        x3 = self.branch3(x)\n",
        "        x = torch.cat((x1,x2,x3), 1)\n",
        "        x = self.fuse(x)\n",
        "        x = torch.relu(x)\n",
        "        x = x.view(-1, self.linear_dim)\n",
        "        x = self.linear(x)\n",
        "        return x\n"
      ]
    },
    {
      "cell_type": "code",
      "execution_count": null,
      "id": "a6804bdc",
      "metadata": {
        "id": "a6804bdc",
        "outputId": "21f25c1d-6ac2-42e1-d0be-3c9c8ad9aa06"
      },
      "outputs": [
        {
          "name": "stdout",
          "output_type": "stream",
          "text": [
            "Epoch = 9, Time = 2.722min,               Loss=1.616, Accuracy=20.386%\n",
            "Epoch = 19, Time = 5.486min,               Loss=1.613, Accuracy=18.986%\n",
            "Epoch = 29, Time = 8.249min,               Loss=1.614, Accuracy=19.243%\n"
          ]
        }
      ],
      "source": [
        "net = MCNN(16, 20, 24, 5)\n",
        "net = net.to(device)\n",
        "criterion = nn.CrossEntropyLoss()\n",
        "net, train_accuracy, train_loss = \\\n",
        "    train_model(net, criterion, train_data_2, train_label_2.long(), epochs=30, lr=0.2)\n",
        "\n",
        "save_model('mcnn', net, train_accuracy)"
      ]
    },
    {
      "cell_type": "code",
      "execution_count": null,
      "id": "cbe2a940",
      "metadata": {
        "id": "cbe2a940"
      },
      "outputs": [],
      "source": [
        "net = MCNN(16, 20, 24, 5)\n",
        "model_state, train_accuracy = load_model('mcnn')\n",
        "net.load_state_dict(model_state)\n",
        "net = net.to(device)"
      ]
    },
    {
      "cell_type": "code",
      "execution_count": null,
      "id": "4e40dee7",
      "metadata": {
        "id": "4e40dee7"
      },
      "outputs": [],
      "source": [
        "test_accuracy = 0\n",
        "with torch.no_grad():\n",
        "    test_accuracy = test_model(net, test_data_2, test_label_2)"
      ]
    },
    {
      "cell_type": "code",
      "execution_count": null,
      "id": "3eb85d10",
      "metadata": {
        "id": "3eb85d10",
        "outputId": "7097c777-7985-4121-fc32-7056237f8c09"
      },
      "outputs": [
        {
          "data": {
            "image/png": "[encoded data removed]",
            "text/plain": [
              "<Figure size 432x288 with 1 Axes>"
            ]
          },
          "metadata": {
            "needs_background": "light"
          },
          "output_type": "display_data"
        }
      ],
      "source": [
        "plot_accuracies(train_accuracy, test_accuracy)"
      ]
    },
    {
      "cell_type": "markdown",
      "id": "f847552c",
      "metadata": {
        "id": "f847552c"
      },
      "source": [
        "## Object Detection / Image Segmentation\n",
        "\n",
        "The main goals of this step is to\n",
        "1. Perform a Faster-RCNN\n",
        "2. Test for the accuracy of this model compared to the network we created, for the purpose of the research of future improvements that can be integrated into our network to improve the accuracy rates\n",
        "\n",
        "At this point, we realised that the most probable reason that the network still failed was due to it being a normal CNN and not object detection model.\n",
        "1. Counting people would first require the network to identify which sections have people, and then from there count how many people. \n",
        "2. Our data is not labelled with bounding boxes due to time constraint and difficulty in labelling so many images with just 3 people, we have decided to try use a pretrained object detector model and from there use its results to count the number of people."
      ]
    },
    {
      "cell_type": "code",
      "execution_count": 1,
      "id": "2cd2a756",
      "metadata": {
        "colab": {
          "base_uri": "https://localhost:8080/",
          "height": 1000
        },
        "id": "2cd2a756",
        "outputId": "d0147232-a958-42ec-e203-a6404eeec83b"
      },
      "outputs": [
        {
          "output_type": "stream",
          "name": "stdout",
          "text": [
            "Collecting pyyaml==5.1\n",
            "  Downloading PyYAML-5.1.tar.gz (274 kB)\n",
            "\u001b[?25l\r\u001b[K     |█▏                              | 10 kB 22.6 MB/s eta 0:00:01\r\u001b[K     |██▍                             | 20 kB 11.7 MB/s eta 0:00:01\r\u001b[K     |███▋                            | 30 kB 9.0 MB/s eta 0:00:01\r\u001b[K     |████▉                           | 40 kB 4.1 MB/s eta 0:00:01\r\u001b[K     |██████                          | 51 kB 4.2 MB/s eta 0:00:01\r\u001b[K     |███████▏                        | 61 kB 4.9 MB/s eta 0:00:01\r\u001b[K     |████████▍                       | 71 kB 5.1 MB/s eta 0:00:01\r\u001b[K     |█████████▋                      | 81 kB 5.3 MB/s eta 0:00:01\r\u001b[K     |██████████▊                     | 92 kB 5.9 MB/s eta 0:00:01\r\u001b[K     |████████████                    | 102 kB 4.9 MB/s eta 0:00:01\r\u001b[K     |█████████████▏                  | 112 kB 4.9 MB/s eta 0:00:01\r\u001b[K     |██████████████▍                 | 122 kB 4.9 MB/s eta 0:00:01\r\u001b[K     |███████████████▌                | 133 kB 4.9 MB/s eta 0:00:01\r\u001b[K     |████████████████▊               | 143 kB 4.9 MB/s eta 0:00:01\r\u001b[K     |██████████████████              | 153 kB 4.9 MB/s eta 0:00:01\r\u001b[K     |███████████████████▏            | 163 kB 4.9 MB/s eta 0:00:01\r\u001b[K     |████████████████████▎           | 174 kB 4.9 MB/s eta 0:00:01\r\u001b[K     |█████████████████████▌          | 184 kB 4.9 MB/s eta 0:00:01\r\u001b[K     |██████████████████████▊         | 194 kB 4.9 MB/s eta 0:00:01\r\u001b[K     |████████████████████████        | 204 kB 4.9 MB/s eta 0:00:01\r\u001b[K     |█████████████████████████       | 215 kB 4.9 MB/s eta 0:00:01\r\u001b[K     |██████████████████████████▎     | 225 kB 4.9 MB/s eta 0:00:01\r\u001b[K     |███████████████████████████▌    | 235 kB 4.9 MB/s eta 0:00:01\r\u001b[K     |████████████████████████████▊   | 245 kB 4.9 MB/s eta 0:00:01\r\u001b[K     |█████████████████████████████▉  | 256 kB 4.9 MB/s eta 0:00:01\r\u001b[K     |███████████████████████████████ | 266 kB 4.9 MB/s eta 0:00:01\r\u001b[K     |████████████████████████████████| 274 kB 4.9 MB/s \n",
            "\u001b[?25hBuilding wheels for collected packages: pyyaml\n",
            "  Building wheel for pyyaml (setup.py) ... \u001b[?25l\u001b[?25hdone\n",
            "  Created wheel for pyyaml: filename=PyYAML-5.1-cp37-cp37m-linux_x86_64.whl size=44092 sha256=489bcb69bfae7a56d28540c68fa9e5c521f713a0262b91eba74dcfb1f09cc83a\n",
            "  Stored in directory: /root/.cache/pip/wheels/77/f5/10/d00a2bd30928b972790053b5de0c703ca87324f3fead0f2fd9\n",
            "Successfully built pyyaml\n",
            "Installing collected packages: pyyaml\n",
            "  Attempting uninstall: pyyaml\n",
            "    Found existing installation: PyYAML 3.13\n",
            "    Uninstalling PyYAML-3.13:\n",
            "      Successfully uninstalled PyYAML-3.13\n",
            "Successfully installed pyyaml-5.1\n",
            "torch:  1.10 ; cuda:  cu111\n",
            "Looking in links: https://dl.fbaipublicfiles.com/detectron2/wheels/cu111/torch1.10/index.html\n",
            "Collecting detectron2\n",
            "  Downloading https://dl.fbaipublicfiles.com/detectron2/wheels/cu111/torch1.10/detectron2-0.6%2Bcu111-cp37-cp37m-linux_x86_64.whl (7.0 MB)\n",
            "\u001b[K     |████████████████████████████████| 7.0 MB 959 kB/s \n",
            "\u001b[?25hRequirement already satisfied: Pillow>=7.1 in /usr/local/lib/python3.7/dist-packages (from detectron2) (7.1.2)\n",
            "Requirement already satisfied: tqdm>4.29.0 in /usr/local/lib/python3.7/dist-packages (from detectron2) (4.64.0)\n",
            "Collecting black==21.4b2\n",
            "  Downloading black-21.4b2-py3-none-any.whl (130 kB)\n",
            "\u001b[K     |████████████████████████████████| 130 kB 5.0 MB/s \n",
            "\u001b[?25hRequirement already satisfied: pydot in /usr/local/lib/python3.7/dist-packages (from detectron2) (1.3.0)\n",
            "Requirement already satisfied: matplotlib in /usr/local/lib/python3.7/dist-packages (from detectron2) (3.2.2)\n",
            "Collecting fvcore<0.1.6,>=0.1.5\n",
            "  Downloading fvcore-0.1.5.post20220414.tar.gz (50 kB)\n",
            "\u001b[K     |████████████████████████████████| 50 kB 1.9 MB/s \n",
            "\u001b[?25hRequirement already satisfied: pycocotools>=2.0.2 in /usr/local/lib/python3.7/dist-packages (from detectron2) (2.0.4)\n",
            "Requirement already satisfied: tensorboard in /usr/local/lib/python3.7/dist-packages (from detectron2) (2.8.0)\n",
            "Collecting iopath<0.1.10,>=0.1.7\n",
            "  Downloading iopath-0.1.9-py3-none-any.whl (27 kB)\n",
            "Requirement already satisfied: tabulate in /usr/local/lib/python3.7/dist-packages (from detectron2) (0.8.9)\n",
            "Requirement already satisfied: future in /usr/local/lib/python3.7/dist-packages (from detectron2) (0.16.0)\n",
            "Collecting hydra-core>=1.1\n",
            "  Downloading hydra_core-1.1.2-py3-none-any.whl (147 kB)\n",
            "\u001b[K     |████████████████████████████████| 147 kB 9.5 MB/s \n",
            "\u001b[?25hCollecting omegaconf>=2.1\n",
            "  Downloading omegaconf-2.1.2-py3-none-any.whl (74 kB)\n",
            "\u001b[K     |████████████████████████████████| 74 kB 2.6 MB/s \n",
            "\u001b[?25hCollecting yacs>=0.1.8\n",
            "  Downloading yacs-0.1.8-py3-none-any.whl (14 kB)\n",
            "Requirement already satisfied: termcolor>=1.1 in /usr/local/lib/python3.7/dist-packages (from detectron2) (1.1.0)\n",
            "Requirement already satisfied: cloudpickle in /usr/local/lib/python3.7/dist-packages (from detectron2) (1.3.0)\n",
            "Collecting toml>=0.10.1\n",
            "  Downloading toml-0.10.2-py2.py3-none-any.whl (16 kB)\n",
            "Requirement already satisfied: appdirs in /usr/local/lib/python3.7/dist-packages (from black==21.4b2->detectron2) (1.4.4)\n",
            "Collecting typed-ast>=1.4.2\n",
            "  Downloading typed_ast-1.5.3-cp37-cp37m-manylinux_2_5_x86_64.manylinux1_x86_64.manylinux_2_12_x86_64.manylinux2010_x86_64.whl (843 kB)\n",
            "\u001b[K     |████████████████████████████████| 843 kB 9.9 MB/s \n",
            "\u001b[?25hCollecting pathspec<1,>=0.8.1\n",
            "  Downloading pathspec-0.9.0-py2.py3-none-any.whl (31 kB)\n",
            "Collecting regex>=2020.1.8\n",
            "  Downloading regex-2022.4.24-cp37-cp37m-manylinux_2_17_x86_64.manylinux2014_x86_64.whl (749 kB)\n",
            "\u001b[K     |████████████████████████████████| 749 kB 20.1 MB/s \n",
            "\u001b[?25hRequirement already satisfied: click>=7.1.2 in /usr/local/lib/python3.7/dist-packages (from black==21.4b2->detectron2) (7.1.2)\n",
            "Collecting mypy-extensions>=0.4.3\n",
            "  Downloading mypy_extensions-0.4.3-py2.py3-none-any.whl (4.5 kB)\n",
            "Requirement already satisfied: typing-extensions>=3.7.4 in /usr/local/lib/python3.7/dist-packages (from black==21.4b2->detectron2) (4.1.1)\n",
            "Requirement already satisfied: numpy in /usr/local/lib/python3.7/dist-packages (from fvcore<0.1.6,>=0.1.5->detectron2) (1.21.6)\n",
            "Requirement already satisfied: pyyaml>=5.1 in /usr/local/lib/python3.7/dist-packages (from fvcore<0.1.6,>=0.1.5->detectron2) (5.1)\n",
            "Collecting antlr4-python3-runtime==4.8\n",
            "  Downloading antlr4-python3-runtime-4.8.tar.gz (112 kB)\n",
            "\u001b[K     |████████████████████████████████| 112 kB 24.5 MB/s \n",
            "\u001b[?25hCollecting importlib-resources<5.3\n",
            "  Downloading importlib_resources-5.2.3-py3-none-any.whl (27 kB)\n",
            "Requirement already satisfied: zipp>=3.1.0 in /usr/local/lib/python3.7/dist-packages (from importlib-resources<5.3->hydra-core>=1.1->detectron2) (3.8.0)\n",
            "Collecting portalocker\n",
            "  Downloading portalocker-2.4.0-py2.py3-none-any.whl (16 kB)\n",
            "Requirement already satisfied: pyparsing!=2.0.4,!=2.1.2,!=2.1.6,>=2.0.1 in /usr/local/lib/python3.7/dist-packages (from matplotlib->detectron2) (3.0.8)\n",
            "Requirement already satisfied: python-dateutil>=2.1 in /usr/local/lib/python3.7/dist-packages (from matplotlib->detectron2) (2.8.2)\n",
            "Requirement already satisfied: cycler>=0.10 in /usr/local/lib/python3.7/dist-packages (from matplotlib->detectron2) (0.11.0)\n",
            "Requirement already satisfied: kiwisolver>=1.0.1 in /usr/local/lib/python3.7/dist-packages (from matplotlib->detectron2) (1.4.2)\n",
            "Requirement already satisfied: six>=1.5 in /usr/local/lib/python3.7/dist-packages (from python-dateutil>=2.1->matplotlib->detectron2) (1.15.0)\n",
            "Requirement already satisfied: tensorboard-data-server<0.7.0,>=0.6.0 in /usr/local/lib/python3.7/dist-packages (from tensorboard->detectron2) (0.6.1)\n",
            "Requirement already satisfied: werkzeug>=0.11.15 in /usr/local/lib/python3.7/dist-packages (from tensorboard->detectron2) (1.0.1)\n",
            "Requirement already satisfied: absl-py>=0.4 in /usr/local/lib/python3.7/dist-packages (from tensorboard->detectron2) (1.0.0)\n",
            "Requirement already satisfied: protobuf>=3.6.0 in /usr/local/lib/python3.7/dist-packages (from tensorboard->detectron2) (3.17.3)\n",
            "Requirement already satisfied: tensorboard-plugin-wit>=1.6.0 in /usr/local/lib/python3.7/dist-packages (from tensorboard->detectron2) (1.8.1)\n",
            "Requirement already satisfied: requests<3,>=2.21.0 in /usr/local/lib/python3.7/dist-packages (from tensorboard->detectron2) (2.23.0)\n",
            "Requirement already satisfied: markdown>=2.6.8 in /usr/local/lib/python3.7/dist-packages (from tensorboard->detectron2) (3.3.6)\n",
            "Requirement already satisfied: google-auth-oauthlib<0.5,>=0.4.1 in /usr/local/lib/python3.7/dist-packages (from tensorboard->detectron2) (0.4.6)\n",
            "Requirement already satisfied: google-auth<3,>=1.6.3 in /usr/local/lib/python3.7/dist-packages (from tensorboard->detectron2) (1.35.0)\n",
            "Requirement already satisfied: wheel>=0.26 in /usr/local/lib/python3.7/dist-packages (from tensorboard->detectron2) (0.37.1)\n",
            "Requirement already satisfied: setuptools>=41.0.0 in /usr/local/lib/python3.7/dist-packages (from tensorboard->detectron2) (57.4.0)\n",
            "Requirement already satisfied: grpcio>=1.24.3 in /usr/local/lib/python3.7/dist-packages (from tensorboard->detectron2) (1.44.0)\n",
            "Requirement already satisfied: cachetools<5.0,>=2.0.0 in /usr/local/lib/python3.7/dist-packages (from google-auth<3,>=1.6.3->tensorboard->detectron2) (4.2.4)\n",
            "Requirement already satisfied: rsa<5,>=3.1.4 in /usr/local/lib/python3.7/dist-packages (from google-auth<3,>=1.6.3->tensorboard->detectron2) (4.8)\n",
            "Requirement already satisfied: pyasn1-modules>=0.2.1 in /usr/local/lib/python3.7/dist-packages (from google-auth<3,>=1.6.3->tensorboard->detectron2) (0.2.8)\n",
            "Requirement already satisfied: requests-oauthlib>=0.7.0 in /usr/local/lib/python3.7/dist-packages (from google-auth-oauthlib<0.5,>=0.4.1->tensorboard->detectron2) (1.3.1)\n",
            "Requirement already satisfied: importlib-metadata>=4.4 in /usr/local/lib/python3.7/dist-packages (from markdown>=2.6.8->tensorboard->detectron2) (4.11.3)\n",
            "Requirement already satisfied: pyasn1<0.5.0,>=0.4.6 in /usr/local/lib/python3.7/dist-packages (from pyasn1-modules>=0.2.1->google-auth<3,>=1.6.3->tensorboard->detectron2) (0.4.8)\n",
            "Requirement already satisfied: chardet<4,>=3.0.2 in /usr/local/lib/python3.7/dist-packages (from requests<3,>=2.21.0->tensorboard->detectron2) (3.0.4)\n",
            "Requirement already satisfied: certifi>=2017.4.17 in /usr/local/lib/python3.7/dist-packages (from requests<3,>=2.21.0->tensorboard->detectron2) (2021.10.8)\n",
            "Requirement already satisfied: urllib3!=1.25.0,!=1.25.1,<1.26,>=1.21.1 in /usr/local/lib/python3.7/dist-packages (from requests<3,>=2.21.0->tensorboard->detectron2) (1.24.3)\n",
            "Requirement already satisfied: idna<3,>=2.5 in /usr/local/lib/python3.7/dist-packages (from requests<3,>=2.21.0->tensorboard->detectron2) (2.10)\n",
            "Requirement already satisfied: oauthlib>=3.0.0 in /usr/local/lib/python3.7/dist-packages (from requests-oauthlib>=0.7.0->google-auth-oauthlib<0.5,>=0.4.1->tensorboard->detectron2) (3.2.0)\n",
            "Building wheels for collected packages: fvcore, antlr4-python3-runtime\n",
            "  Building wheel for fvcore (setup.py) ... \u001b[?25l\u001b[?25hdone\n",
            "  Created wheel for fvcore: filename=fvcore-0.1.5.post20220414-py3-none-any.whl size=61211 sha256=cafb5101355b264921401aead33fa81f843cca0cba467b030fd1db85760e40eb\n",
            "  Stored in directory: /root/.cache/pip/wheels/df/f4/b8/7b5df8b6722f4c72315ce70c31aa693e00cef6a5056149bd28\n",
            "  Building wheel for antlr4-python3-runtime (setup.py) ... \u001b[?25l\u001b[?25hdone\n",
            "  Created wheel for antlr4-python3-runtime: filename=antlr4_python3_runtime-4.8-py3-none-any.whl size=141230 sha256=baa9cf4596f8f25f90e429f642844e74b557c0b7c43d9afd4c99818158ee2bd0\n",
            "  Stored in directory: /root/.cache/pip/wheels/ca/33/b7/336836125fc9bb4ceaa4376d8abca10ca8bc84ddc824baea6c\n",
            "Successfully built fvcore antlr4-python3-runtime\n",
            "Installing collected packages: portalocker, antlr4-python3-runtime, yacs, typed-ast, toml, regex, pathspec, omegaconf, mypy-extensions, iopath, importlib-resources, hydra-core, fvcore, black, detectron2\n",
            "  Attempting uninstall: regex\n",
            "    Found existing installation: regex 2019.12.20\n",
            "    Uninstalling regex-2019.12.20:\n",
            "      Successfully uninstalled regex-2019.12.20\n",
            "  Attempting uninstall: importlib-resources\n",
            "    Found existing installation: importlib-resources 5.7.0\n",
            "    Uninstalling importlib-resources-5.7.0:\n",
            "      Successfully uninstalled importlib-resources-5.7.0\n",
            "Successfully installed antlr4-python3-runtime-4.8 black-21.4b2 detectron2-0.6+cu111 fvcore-0.1.5.post20220414 hydra-core-1.1.2 importlib-resources-5.2.3 iopath-0.1.9 mypy-extensions-0.4.3 omegaconf-2.1.2 pathspec-0.9.0 portalocker-2.4.0 regex-2022.4.24 toml-0.10.2 typed-ast-1.5.3 yacs-0.1.8\n"
          ]
        },
        {
          "output_type": "display_data",
          "data": {
            "application/vnd.colab-display-data+json": {
              "pip_warning": {
                "packages": [
                  "pydevd_plugins"
                ]
              }
            }
          },
          "metadata": {}
        }
      ],
      "source": [
        "!pip install pyyaml==5.1\n",
        "\n",
        "import torch\n",
        "TORCH_VERSION = \".\".join(torch.__version__.split(\".\")[:2])\n",
        "CUDA_VERSION = torch.__version__.split(\"+\")[-1]\n",
        "print(\"torch: \", TORCH_VERSION, \"; cuda: \", CUDA_VERSION)\n",
        "# Install detectron2 that matches the above pytorch version\n",
        "# See https://detectron2.readthedocs.io/tutorials/install.html for instructions\n",
        "!pip install detectron2 -f https://dl.fbaipublicfiles.com/detectron2/wheels/$CUDA_VERSION/torch$TORCH_VERSION/index.html\n",
        "# If there is not yet a detectron2 release that matches the given torch + CUDA version, you need to install a different pytorch.\n",
        "\n",
        "#exit(0)  # After installation, you may need to \"restart runtime\" in Colab. This line can also restart runtime"
      ]
    },
    {
      "cell_type": "code",
      "execution_count": 1,
      "id": "a5c9c338",
      "metadata": {
        "id": "a5c9c338"
      },
      "outputs": [],
      "source": [
        "# Some basic setup:\n",
        "# Setup detectron2 logger\n",
        "import detectron2\n",
        "import time\n",
        "import matplotlib.pyplot as plt\n",
        "from detectron2.utils.logger import setup_logger\n",
        "setup_logger()\n",
        "\n",
        "# import some common libraries\n",
        "import numpy as np\n",
        "import os, json, cv2, random\n",
        "#from google.colab.patches import cv2_imshow\n",
        "\n",
        "# import some common detectron2 utilities\n",
        "from detectron2 import model_zoo\n",
        "from detectron2.engine import DefaultPredictor\n",
        "from detectron2.config import get_cfg\n",
        "from detectron2.utils.visualizer import Visualizer\n",
        "from detectron2.data import MetadataCatalog, DatasetCatalog"
      ]
    },
    {
      "cell_type": "code",
      "execution_count": 2,
      "id": "b6bdb665",
      "metadata": {
        "id": "b6bdb665"
      },
      "outputs": [],
      "source": [
        "import os\n",
        "if not os.path.exists('./dataset_png'):\n",
        "    !wget https://github.com/ClementNgZiQian/CS4243_2122S2_Project/releases/download/v1.0/dataset_png.zip \n",
        "    !unzip dataset_png.zip > /dev/null"
      ]
    },
    {
      "cell_type": "code",
      "execution_count": 3,
      "id": "c4801d52",
      "metadata": {
        "id": "c4801d52"
      },
      "outputs": [],
      "source": [
        "def detectron_count(predictor, base_folder, class_number):\n",
        "    start = time.time()\n",
        "    batch_folders = os.listdir(base_folder)\n",
        "    correct = 0\n",
        "    total_size = 0\n",
        "    for folder in batch_folders:\n",
        "        folder_path = f'{base_folder}/{folder}'\n",
        "        images = os.listdir(folder_path)\n",
        "        labels_path = folder_path.replace('_data', '_labels') + '.pt'\n",
        "        labels = torch.load(labels_path)\n",
        "        total_size += len(labels)\n",
        "        for i in range(len(labels)):\n",
        "            im_path = f'{folder_path}/{i}.png'\n",
        "            label = labels[i]\n",
        "            im = cv2.imread(im_path)\n",
        "        \n",
        "            outputs = predictor(im)\n",
        "            preds = outputs['instances'].pred_classes.to('cpu')\n",
        "            count = torch.count_nonzero(preds == class_number)  \n",
        "            correct += (count == label)\n",
        "        \n",
        "        curr = time.time()\n",
        "        print(f'Time passed = {(curr-start)/60:.3f}min, {total_size} images processed')\n",
        "\n",
        "    accuracy = (correct/total_size) * 100\n",
        "    return accuracy"
      ]
    },
    {
      "cell_type": "code",
      "execution_count": 4,
      "id": "d56fd692",
      "metadata": {
        "id": "d56fd692"
      },
      "outputs": [],
      "source": [
        "def run_inf(pre_trained, ROI):\n",
        "    cfg = get_cfg()\n",
        "    cfg.merge_from_file(model_zoo.get_config_file(pre_trained))\n",
        "    cfg.MODEL.ROI_HEADS.SCORE_THRESH_TEST = ROI  # set threshold for this model\n",
        "    cfg.MODEL.WEIGHTS = model_zoo.get_checkpoint_url(pre_trained)\n",
        "    predictor = DefaultPredictor(cfg)\n",
        "    train_accuracy = detectron_count(predictor, './dataset_png/train_data', 0)\n",
        "    test_accuracy = detectron_count(predictor, './dataset_png/test_data', 0)\n",
        "    return train_accuracy, test_accuracy"
      ]
    },
    {
      "cell_type": "code",
      "execution_count": 5,
      "id": "236bc205",
      "metadata": {
        "id": "236bc205"
      },
      "outputs": [],
      "source": [
        "def plot_accuracies_detectron(test_accuracy, train_accuracy):\n",
        "    plt.plot(train_accuracy * np.ones(10), label='Train Accuracy')\n",
        "    plt.plot(test_accuracy * np.ones(10), label='Test Accuracy')\n",
        "    plt.legend()\n",
        "    plt.show()"
      ]
    },
    {
      "cell_type": "markdown",
      "id": "93da53bb",
      "metadata": {
        "id": "93da53bb"
      },
      "source": [
        "#### Running Inference using - **COCO-InstanceSegmentation/mask_rcnn_R_50_FPN_3x.yaml**\n",
        "\n",
        "We create a detectron2 config and a detectron2 `DefaultPredictor` to run inference on image."
      ]
    },
    {
      "cell_type": "code",
      "execution_count": 6,
      "id": "24f5fa00",
      "metadata": {
        "colab": {
          "base_uri": "https://localhost:8080/"
        },
        "id": "24f5fa00",
        "outputId": "2aa95563-3bf7-43f7-830b-e36f319d548c"
      },
      "outputs": [
        {
          "output_type": "stream",
          "name": "stderr",
          "text": [
            "/usr/local/lib/python3.7/dist-packages/detectron2/structures/image_list.py:88: UserWarning: __floordiv__ is deprecated, and its behavior will change in a future version of pytorch. It currently rounds toward 0 (like the 'trunc' function NOT 'floor'). This results in incorrect rounding for negative values. To keep the current behavior, use torch.div(a, b, rounding_mode='trunc'), or for actual floor division, use torch.div(a, b, rounding_mode='floor').\n",
            "  max_size = (max_size + (stride - 1)) // stride * stride\n",
            "/usr/local/lib/python3.7/dist-packages/torch/functional.py:445: UserWarning: torch.meshgrid: in an upcoming release, it will be required to pass the indexing argument. (Triggered internally at  ../aten/src/ATen/native/TensorShape.cpp:2157.)\n",
            "  return _VF.meshgrid(tensors, **kwargs)  # type: ignore[attr-defined]\n"
          ]
        },
        {
          "output_type": "stream",
          "name": "stdout",
          "text": [
            "Time passed = 0.851min, 170 images processed\n",
            "Time passed = 1.703min, 340 images processed\n",
            "Time passed = 2.556min, 510 images processed\n",
            "Time passed = 3.412min, 680 images processed\n",
            "Time passed = 4.262min, 850 images processed\n",
            "Time passed = 5.114min, 1020 images processed\n",
            "Time passed = 5.797min, 1156 images processed\n",
            "Time passed = 6.647min, 1326 images processed\n",
            "Time passed = 7.501min, 1496 images processed\n",
            "Time passed = 8.351min, 1666 images processed\n",
            "Time passed = 9.200min, 1836 images processed\n",
            "Time passed = 10.050min, 2006 images processed\n",
            "Time passed = 10.902min, 2176 images processed\n",
            "Time passed = 11.753min, 2346 images processed\n",
            "Time passed = 12.604min, 2516 images processed\n",
            "Time passed = 13.455min, 2686 images processed\n",
            "Time passed = 14.302min, 2856 images processed\n",
            "Time passed = 15.148min, 3026 images processed\n",
            "Time passed = 15.997min, 3196 images processed\n",
            "Time passed = 16.845min, 3366 images processed\n",
            "Time passed = 17.689min, 3536 images processed\n",
            "Time passed = 18.536min, 3706 images processed\n",
            "Time passed = 19.384min, 3876 images processed\n",
            "Time passed = 20.232min, 4046 images processed\n",
            "Time passed = 21.082min, 4216 images processed\n",
            "Time passed = 21.932min, 4386 images processed\n",
            "Time passed = 22.780min, 4556 images processed\n",
            "Time passed = 23.628min, 4726 images processed\n",
            "Time passed = 24.473min, 4896 images processed\n",
            "Time passed = 25.318min, 5066 images processed\n",
            "Time passed = 0.381min, 77 images processed\n",
            "Time passed = 1.228min, 247 images processed\n",
            "Time passed = 2.071min, 417 images processed\n",
            "Time passed = 2.911min, 587 images processed\n",
            "Time passed = 3.756min, 757 images processed\n",
            "Time passed = 4.600min, 927 images processed\n",
            "Time passed = 5.448min, 1097 images processed\n",
            "Time passed = 6.295min, 1267 images processed\n",
            "Train set accuracy = 58.093%,     Test set accuracy = 59.353%,     time taken = 31.673mins\n"
          ]
        }
      ],
      "source": [
        "import torch\n",
        "ROI = 0.5\n",
        "start = time.time()\n",
        "accuracy_detectron_2train, accuracy_detectron_2test = \\\n",
        "        run_inf(\"COCO-InstanceSegmentation/mask_rcnn_R_50_FPN_3x.yaml\", ROI)\n",
        "end = time.time()\n",
        "print(f'Train set accuracy = {accuracy_detectron_2train:.3f}%, \\\n",
        "    Test set accuracy = {accuracy_detectron_2test:.3f}%, \\\n",
        "    time taken = {(end - start)/60:.3f}mins')"
      ]
    },
    {
      "cell_type": "code",
      "execution_count": 7,
      "id": "bd6fcc48",
      "metadata": {
        "colab": {
          "base_uri": "https://localhost:8080/",
          "height": 267
        },
        "id": "bd6fcc48",
        "outputId": "bd45b76a-5d59-4b43-c343-54aca3ae720e"
      },
      "outputs": [
        {
          "output_type": "display_data",
          "data": {
            "text/plain": [
              "<Figure size 432x288 with 1 Axes>"
            ],
            "image/png": "[encoded data removed]"
          },
          "metadata": {
            "needs_background": "light"
          }
        }
      ],
      "source": [
        "plot_accuracies_detectron(accuracy_detectron_2test/100, accuracy_detectron_2train/100)"
      ]
    },
    {
      "cell_type": "markdown",
      "id": "b15f708f",
      "metadata": {
        "id": "b15f708f"
      },
      "source": [
        "#### Running Inference using - **COCO-InstanceSegmentation/mask_rcnn_X_101_32x8d_FPN_3x.yaml**\n",
        "\n",
        "We create a detectron2 config and a detectron2 `DefaultPredictor` to run inference on image."
      ]
    },
    {
      "cell_type": "code",
      "execution_count": 8,
      "id": "4c3831ac",
      "metadata": {
        "colab": {
          "base_uri": "https://localhost:8080/"
        },
        "id": "4c3831ac",
        "outputId": "8770e8bb-181b-4004-9433-eb2d38331651"
      },
      "outputs": [
        {
          "output_type": "stream",
          "name": "stderr",
          "text": [
            "/usr/local/lib/python3.7/dist-packages/detectron2/structures/image_list.py:88: UserWarning: __floordiv__ is deprecated, and its behavior will change in a future version of pytorch. It currently rounds toward 0 (like the 'trunc' function NOT 'floor'). This results in incorrect rounding for negative values. To keep the current behavior, use torch.div(a, b, rounding_mode='trunc'), or for actual floor division, use torch.div(a, b, rounding_mode='floor').\n",
            "  max_size = (max_size + (stride - 1)) // stride * stride\n"
          ]
        },
        {
          "output_type": "stream",
          "name": "stdout",
          "text": [
            "Time passed = 3.166min, 170 images processed\n",
            "Time passed = 6.331min, 340 images processed\n",
            "Time passed = 9.501min, 510 images processed\n",
            "Time passed = 12.668min, 680 images processed\n",
            "Time passed = 15.833min, 850 images processed\n",
            "Time passed = 18.999min, 1020 images processed\n",
            "Time passed = 21.531min, 1156 images processed\n",
            "Time passed = 24.697min, 1326 images processed\n",
            "Time passed = 27.868min, 1496 images processed\n",
            "Time passed = 31.033min, 1666 images processed\n",
            "Time passed = 34.197min, 1836 images processed\n",
            "Time passed = 37.362min, 2006 images processed\n",
            "Time passed = 40.526min, 2176 images processed\n",
            "Time passed = 43.689min, 2346 images processed\n",
            "Time passed = 46.855min, 2516 images processed\n",
            "Time passed = 50.018min, 2686 images processed\n",
            "Time passed = 53.184min, 2856 images processed\n",
            "Time passed = 56.347min, 3026 images processed\n",
            "Time passed = 59.514min, 3196 images processed\n",
            "Time passed = 62.681min, 3366 images processed\n",
            "Time passed = 65.846min, 3536 images processed\n",
            "Time passed = 69.014min, 3706 images processed\n",
            "Time passed = 72.179min, 3876 images processed\n",
            "Time passed = 75.348min, 4046 images processed\n",
            "Time passed = 78.524min, 4216 images processed\n",
            "Time passed = 81.703min, 4386 images processed\n",
            "Time passed = 84.882min, 4556 images processed\n",
            "Time passed = 88.060min, 4726 images processed\n",
            "Time passed = 91.237min, 4896 images processed\n",
            "Time passed = 94.414min, 5066 images processed\n",
            "Time passed = 1.438min, 77 images processed\n",
            "Time passed = 4.617min, 247 images processed\n",
            "Time passed = 7.794min, 417 images processed\n",
            "Time passed = 10.969min, 587 images processed\n",
            "Time passed = 14.146min, 757 images processed\n",
            "Time passed = 17.323min, 927 images processed\n",
            "Time passed = 20.498min, 1097 images processed\n",
            "Time passed = 23.671min, 1267 images processed\n",
            "Train set accuracy = 61.863%,     Test set accuracy = 64.167%,     time taken = 118.125mins\n"
          ]
        }
      ],
      "source": [
        "ROI = 0.5\n",
        "start = time.time()\n",
        "accuracy_detectron_2train, accuracy_detectron_2test = \\\n",
        "        run_inf(\"COCO-InstanceSegmentation/mask_rcnn_X_101_32x8d_FPN_3x.yaml\", ROI)\n",
        "end = time.time()\n",
        "print(f'Train set accuracy = {accuracy_detectron_2train:.3f}%, \\\n",
        "    Test set accuracy = {accuracy_detectron_2test:.3f}%, \\\n",
        "    time taken = {(end - start)/60:.3f}mins')"
      ]
    },
    {
      "cell_type": "code",
      "execution_count": 9,
      "id": "c381cfe8",
      "metadata": {
        "colab": {
          "base_uri": "https://localhost:8080/",
          "height": 265
        },
        "id": "c381cfe8",
        "outputId": "116b23ea-30c5-4da6-c187-5e3a5a9ebcb0"
      },
      "outputs": [
        {
          "output_type": "display_data",
          "data": {
            "text/plain": [
              "<Figure size 432x288 with 1 Axes>"
            ],
            "image/png": "[encoded data removed]"
          },
          "metadata": {
            "needs_background": "light"
          }
        }
      ],
      "source": [
        "plot_accuracies_detectron(accuracy_detectron_2test/100, accuracy_detectron_2train/100)"
      ]
    },
    {
      "cell_type": "markdown",
      "id": "bc598ce5",
      "metadata": {
        "id": "bc598ce5"
      },
      "source": [
        "## Our conclusion:\n",
        "\n",
        "From the results above, it shows the image segmentation model giving much higher accuracy rates, which were around 59-64%, as compared to the other networks which were trained on our dataset, which gave lower accuracy rates of around 20%. From here, our team has concluded that image segmentation model could be integrated into our future implementations as part of the solution to our intial problem.\n",
        "\n",
        "Additionally, the results displayed above has shown a higher accuracy rate for the 2nd model, which  as compared to the 1st model. From here, our team learned that the difference in learning rate schedules affects the accuracy rates predicted by the model. The results has shown that the models trained with a higher number of epochs/iterations gave predictions with higher accuracy rates."
      ]
    }
  ],
  "metadata": {
    "kernelspec": {
      "display_name": "Python 3 (ipykernel)",
      "language": "python",
      "name": "python3"
    },
    "language_info": {
      "codemirror_mode": {
        "name": "ipython",
        "version": 3
      },
      "file_extension": ".py",
      "mimetype": "text/x-python",
      "name": "python",
      "nbconvert_exporter": "python",
      "pygments_lexer": "ipython3",
      "version": "3.7.10"
    },
    "colab": {
      "name": "CS4243 Project.ipynb",
      "provenance": [],
      "collapsed_sections": [
        "eabb19b4",
        "87a586a9",
        "468cc33e",
        "ca8aed17",
        "77a42aaf",
        "4754c38a",
        "f6710806",
        "a55786ed",
        "52ab1d82",
        "a7123523",
        "db3bf47a",
        "809f0d7f"
      ]
    },
    "accelerator": "GPU"
  },
  "nbformat": 4,
  "nbformat_minor": 5
}