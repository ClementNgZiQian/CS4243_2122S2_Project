{
 "cells": [
  {
   "cell_type": "markdown",
   "id": "58728b43",
   "metadata": {},
   "source": [
    "# CS4243 Project\n",
    "\n",
    "1. Clement Ng\n",
    "2. Kimberley Tay\n",
    "3. Wayne Tan"
   ]
  },
  {
   "cell_type": "markdown",
   "id": "eabb19b4",
   "metadata": {},
   "source": [
    "## Scraping dataset\n",
    "\n",
    "1. Images are scraped from google images, duckduckgo images, and unsplash.\n",
    "2. They are then manually labelled by us."
   ]
  },
  {
   "cell_type": "code",
   "execution_count": 54,
   "id": "5a950afd",
   "metadata": {
    "scrolled": true
   },
   "outputs": [],
   "source": [
    "#from scraper import main\n",
    "\n",
    "#main()"
   ]
  },
  {
   "cell_type": "markdown",
   "id": "87a586a9",
   "metadata": {},
   "source": [
    "## Image Preprocessing\n",
    "\n",
    "In this step, we will be taking a look at\n",
    "1. The dataset distribution\n",
    "2. Normalising of dataset\n",
    "3. Saving the dataset in a .pt extension for easily reproducible results"
   ]
  },
  {
   "cell_type": "code",
   "execution_count": 122,
   "id": "86e9511e",
   "metadata": {},
   "outputs": [],
   "source": [
    "from PIL import Image\n",
    "from torchvision import datasets, transforms\n",
    "from matplotlib import pyplot as plt\n",
    "import numpy as np\n",
    "import seaborn as sns\n",
    "import time, os, torch, shutil"
   ]
  },
  {
   "cell_type": "markdown",
   "id": "468cc33e",
   "metadata": {},
   "source": [
    "### Checking sizes of images\n",
    "\n",
    "A few things to note:\n",
    "1. base_folder defines the folder in which all the images are in.\n",
    "2. It is assumed that the images are in their respective folders based on their labels, with the folder name being the label, and all of them are in base_folder."
   ]
  },
  {
   "cell_type": "code",
   "execution_count": 7,
   "id": "49470f63",
   "metadata": {},
   "outputs": [],
   "source": [
    "base_folder = './dataset-raw'\n",
    "classes = os.listdir(base_folder)\n",
    "classes.remove('Unusable')\n",
    "classes = [int(i) for i in classes]\n",
    "classes.sort()"
   ]
  },
  {
   "cell_type": "code",
   "execution_count": 8,
   "id": "0b583cd3",
   "metadata": {},
   "outputs": [],
   "source": [
    "def dataset_stats(classes):\n",
    "    stats = []\n",
    "    for class_ in classes:\n",
    "        folder_path = f'{base_folder}/{class_}'\n",
    "        files = os.listdir(folder_path)\n",
    "        files.sort()\n",
    "        for file in files:\n",
    "            file_path = f'{folder_path}/{file}'\n",
    "            im = Image.open(file_path)\n",
    "            size = im.size\n",
    "            stats.append(size + (min(class_, 11), file_path))\n",
    "    return np.array(stats)"
   ]
  },
  {
   "cell_type": "code",
   "execution_count": 57,
   "id": "465db8b7",
   "metadata": {},
   "outputs": [],
   "source": [
    "stats = dataset_stats(classes)"
   ]
  },
  {
   "cell_type": "code",
   "execution_count": 10,
   "id": "d2ce7a17",
   "metadata": {},
   "outputs": [
    {
     "data": {
      "text/plain": [
       "<AxesSubplot:ylabel='Count'>"
      ]
     },
     "execution_count": 10,
     "metadata": {},
     "output_type": "execute_result"
    },
    {
     "data": {
      "image/png": "[encoded data removed]",
      "text/plain": [
       "<Figure size 432x288 with 1 Axes>"
      ]
     },
     "metadata": {
      "needs_background": "light"
     },
     "output_type": "display_data"
    }
   ],
   "source": [
    "sns.histplot(x=stats[:, 2])"
   ]
  },
  {
   "cell_type": "markdown",
   "id": "3f475ce1",
   "metadata": {},
   "source": [
    "We observe that the amount of dataset for label 1 is much higher than the rest, so the measure we have chosen to adopt here is to deploy undersampling. Furthermore, for the labels >6, the quantity of dataset available is alot less than those <=6, and based on our decision that 6 is a good number to cut off. The label choice we have decided on will be [0, 1, 2, 3, 4, 5, 6, 7-10,>10].\n",
    "\n",
    "We have determined that it doesnt make a difference whether there 11 or 12 people in an image, and 6 makes for a size suitable for a small group."
   ]
  },
  {
   "cell_type": "code",
   "execution_count": 107,
   "id": "90aa9e66",
   "metadata": {},
   "outputs": [],
   "source": [
    "def ratio(stats):\n",
    "    return stats[:, 0:2].max(axis=1) / stats[:, 0:2].min(axis=1)"
   ]
  },
  {
   "cell_type": "code",
   "execution_count": 106,
   "id": "afbe0c48",
   "metadata": {},
   "outputs": [
    {
     "data": {
      "text/plain": [
       "<AxesSubplot:ylabel='Count'>"
      ]
     },
     "execution_count": 106,
     "metadata": {},
     "output_type": "execute_result"
    },
    {
     "data": {
      "image/png": "[encoded data removed]",
      "text/plain": [
       "<Figure size 432x288 with 1 Axes>"
      ]
     },
     "metadata": {
      "needs_background": "light"
     },
     "output_type": "display_data"
    }
   ],
   "source": [
    "ratios = ratio(stats)\n",
    "sns.histplot(x=ratios)"
   ]
  },
  {
   "cell_type": "markdown",
   "id": "e16f5f8f",
   "metadata": {},
   "source": [
    "Most of the images lie within a boundary of 1 to 2 in aspect ratios, and since we decided to conduct undersampling for majority classes, we will prioritise keeping the images whose aspect ratio lie in this range. In other words, the images whose aspect ratios lie outside this range will be removed with priority."
   ]
  },
  {
   "cell_type": "markdown",
   "id": "ca8aed17",
   "metadata": {},
   "source": [
    "### Filtering Images\n",
    "\n",
    "There are images which are very small compared to the size we have have chosen to keep, which is 256x256. So we will filter the images which are less than 1/4 of the desired size for all.\n",
    "\n",
    "Furthermore, since there is a majority of dataset for label 1 and 2, we have decided to undersample it, in the following order:\n",
    "1. Selectively filter based on aspect ratio (so that the amount of black box in the dataset would not be too high.\n",
    "2. Keep filtering until we have approximately equal to the number of datapoints as the next highest class."
   ]
  },
  {
   "cell_type": "code",
   "execution_count": 45,
   "id": "1580fe91",
   "metadata": {},
   "outputs": [],
   "source": [
    "def filter_small(stats, size=256):\n",
    "    crit_met = np.logical_and(\n",
    "        stats[:, 0] >= size/2, stats[:, 1] >= size/2)\n",
    "    return stats[crit_met]"
   ]
  },
  {
   "cell_type": "code",
   "execution_count": 92,
   "id": "543c9df0",
   "metadata": {},
   "outputs": [],
   "source": [
    "stats[(stats[:,2] < 11) & (stats[:, 2] > 6), 2] = 7\n",
    "stats[stats[:,2] >= 11, 2] = 8"
   ]
  },
  {
   "cell_type": "markdown",
   "id": "5a741874",
   "metadata": {},
   "source": [
    "From here on, label 7 will represent 7-10 people, and label 8 will denote > 10 people"
   ]
  },
  {
   "cell_type": "code",
   "execution_count": 93,
   "id": "9a9f0084",
   "metadata": {},
   "outputs": [
    {
     "name": "stdout",
     "output_type": "stream",
     "text": [
      "(6480, 3)\n",
      "(6282, 3)\n"
     ]
    },
    {
     "data": {
      "image/png": "[encoded data removed]",
      "text/plain": [
       "<Figure size 432x288 with 1 Axes>"
      ]
     },
     "metadata": {
      "needs_background": "light"
     },
     "output_type": "display_data"
    }
   ],
   "source": [
    "filtered = filter_small(stats)\n",
    "sns.histplot(x=filtered[:, 2])\n",
    "print(stats.shape)\n",
    "print(filtered.shape)"
   ]
  },
  {
   "cell_type": "code",
   "execution_count": 44,
   "id": "368804e2",
   "metadata": {
    "scrolled": true
   },
   "outputs": [
    {
     "name": "stdout",
     "output_type": "stream",
     "text": [
      "(6480, 3)\n",
      "(6282, 3)\n"
     ]
    }
   ],
   "source": [
    "def undersample(stats):\n",
    "    labels = stats[:, 2].unique()\n",
    "    count = []\n",
    "    for label in labels:\n",
    "        count.append((stats[:, 2] == label).count_nonzero())\n",
    "    count.sort()\n",
    "    \n",
    "    retain = count[-3]\n",
    "    filtered = []\n",
    "    for label in labels:\n",
    "        \n",
    "        # We scale the aspect ratios so that 1 -> 0, then \n",
    "        data = stats[stats[:, 2] == label]\n",
    "        ratio = (ratio(data) - 1).abs()\n",
    "        kept = np.argsort(ratio)[: retain]\n",
    "        filtered.append(data[kept])\n",
    "    \n",
    "    filtered = np.concatenate(filtered, axis=0)\n",
    "    return filtered        "
   ]
  },
  {
   "cell_type": "markdown",
   "id": "77a42aaf",
   "metadata": {},
   "source": [
    "### Normalising Size of images\n",
    "\n",
    "1. We will be reading the images, converting them to the same size of 256x256, by scaling while retaining aspect ratio, then padding to a square with 0s.\n",
    "2. If the original image is larger than 256 on either side, it will be scaled down, else the size will remain the same.\n",
    "3. The dataset will then be saved to a .pt file, and uploaded to a repository so that it can be reproduced easier, instead of uploading all the images as a dataset.\n",
    "4. This step will only be performed on a local computer with the dataset and does not need to be reproduced when reproducing the results.\n",
    "5. If there are requests for the dataset used, please email XXX."
   ]
  },
  {
   "cell_type": "code",
   "execution_count": 58,
   "id": "b1c4ee94",
   "metadata": {},
   "outputs": [],
   "source": [
    "def make_square(im, size):\n",
    "    x, y = im.size\n",
    "    factor = x / y\n",
    "    new_size = (size, size)\n",
    "    if x < y:\n",
    "        new_size = (int(factor*size), size)\n",
    "    elif x > y:\n",
    "        new_size = (size, int(size / factor))\n",
    "    new_im = Image.new('RGB', (size, size), color=0)\n",
    "    new_im.paste(im.resize(new_size),\n",
    "                 (int((size - new_size[0]) / 2), int((size - new_size[1]) / 2)))\n",
    "    return new_im"
   ]
  },
  {
   "cell_type": "code",
   "execution_count": 11,
   "id": "a64eb5e5",
   "metadata": {},
   "outputs": [],
   "source": [
    "def load_dataset(filtered, size):\n",
    "    transformer = transforms.ToTensor()\n",
    "    dataset = []\n",
    "    labels = []\n",
    "    for entry in filtered:\n",
    "        file_path = entry[-1]\n",
    "        label = entry[-2]\n",
    "        \n",
    "        im = Image.open(file_path)\n",
    "        new_im = make_square(im, size)\n",
    "        \n",
    "        dataset.append(transformer(new_im))\n",
    "        labels.append(label)\n",
    "        \n",
    "    dataset = torch.stack(dataset, dim=0)\n",
    "    labels = torch.tensor(labels)\n",
    "    return dataset, labels"
   ]
  },
  {
   "cell_type": "code",
   "execution_count": 12,
   "id": "a106275c",
   "metadata": {},
   "outputs": [],
   "source": [
    "size = 256\n",
    "dataset, labels = load_dataset(filtered, size)"
   ]
  },
  {
   "cell_type": "code",
   "execution_count": 13,
   "id": "f8aaaa7b",
   "metadata": {
    "scrolled": true
   },
   "outputs": [
    {
     "data": {
      "text/plain": [
       "torch.Size([648, 3, 256, 256])"
      ]
     },
     "execution_count": 13,
     "metadata": {},
     "output_type": "execute_result"
    }
   ],
   "source": [
    "dataset.size()"
   ]
  },
  {
   "cell_type": "markdown",
   "id": "4754c38a",
   "metadata": {},
   "source": [
    "### Saving as a .pt file"
   ]
  },
  {
   "cell_type": "code",
   "execution_count": 19,
   "id": "d4f93fcb",
   "metadata": {},
   "outputs": [],
   "source": [
    "total_size = dataset.size()[0]\n",
    "train_proportion = 0.8\n",
    "train_size = int(train_proportion*total_size)\n",
    "\n",
    "shuffled_indices = np.random.permutation(np.arange(total_size))\n",
    "train_indices = shuffled_indices[:train_size]\n",
    "test_indices = shuffled_indices[train_size:]"
   ]
  },
  {
   "cell_type": "code",
   "execution_count": null,
   "id": "932b52ab",
   "metadata": {},
   "outputs": [],
   "source": [
    "train_data = dataset[train_indices, :, :, :]\n",
    "train_labels = labels[train_indices]\n",
    "test_data = dataset[test_indices, :, :, :]\n",
    "test_labels = labels[test_indices]\n",
    "\n",
    "torch.save(train_data, 'train_data.pt')\n",
    "torch.save(train_labels, 'train_labels.pt')\n",
    "torch.save(test_data, 'test_data.pt')\n",
    "torch.save(test_labels, 'test_labels.pt')"
   ]
  },
  {
   "cell_type": "code",
   "execution_count": 20,
   "id": "fd56f269",
   "metadata": {},
   "outputs": [],
   "source": [
    "torch.save(dataset, 'dataset.pt')\n",
    "torch.save(labels, 'labels.pt')"
   ]
  },
  {
   "cell_type": "markdown",
   "id": "f6710806",
   "metadata": {},
   "source": [
    "## Training of the model\n",
    "\n",
    "The main goals of this step is to\n",
    "1. Perform a Vanilla CNN\n",
    "2. Try to develop a more advanced structure mainly based on the hierarichal features idea taught in class"
   ]
  },
  {
   "cell_type": "markdown",
   "id": "a55786ed",
   "metadata": {},
   "source": [
    "### Getting dataset\n",
    "\n",
    "Using the requests module to download the dataset from our repo."
   ]
  },
  {
   "cell_type": "code",
   "execution_count": null,
   "id": "f20699e7",
   "metadata": {},
   "outputs": [],
   "source": [
    "import requests\n",
    "base_folder = './dataset'\n",
    "\n",
    "urls = {\n",
    "    'train_data': [],\n",
    "    'train_label': [],\n",
    "    'test_data': [],\n",
    "    'test_label': [],\n",
    "}\n",
    "\n",
    "def check_dataset(all_urls):\n",
    "    not_found = {}\n",
    "    for type_, urls in all_urls.items():\n",
    "        not_found[type_] = []\n",
    "        for i, url in enumerate(urls):\n",
    "            name = f'{type_}_{i+1}'\n",
    "            if not os.path.exists(f'dataset/{type_}/{name}.pt'):\n",
    "                not_found[type_].append(url)\n",
    "    return not_found\n",
    "\n",
    "def download_dataset(all_urls):\n",
    "    for type_, urls in all_urls.items():\n",
    "        for i, url in enumerate(urls):\n",
    "            r = requests.get(url)\n",
    "            name = url.split('/')[-1]\n",
    "            with open(f'./dataset/{type_}/{name}', 'wb') as f:\n",
    "                f.write(r.content)\n",
    "\n",
    "not_found = check_dataset(urls)\n",
    "download_dataset(not_found)"
   ]
  },
  {
   "cell_type": "code",
   "execution_count": null,
   "id": "9357ea5b",
   "metadata": {},
   "outputs": [],
   "source": [
    "def load_dataset(type_):\n",
    "    folder = os.path.join(base_folder, type_)\n",
    "    files = os.listdir(folder)\n",
    "    files = [os.path.join(folder, i) for i in files]\n",
    "    files.sort()\n",
    "    result = torch.load(files[0])\n",
    "    for file in files[1:]:\n",
    "        result = torch.cat((result, torch.load(file)), dim=0)\n",
    "    return result"
   ]
  },
  {
   "cell_type": "code",
   "execution_count": null,
   "id": "ea3221d8",
   "metadata": {},
   "outputs": [],
   "source": [
    "train_data = load_dataset('train_data')\n",
    "train_label = load_dataset('train_label')\n",
    "test_data = load_dataset('test_data')\n",
    "test_label = load_dataset('test_label')"
   ]
  },
  {
   "cell_type": "markdown",
   "id": "a7123523",
   "metadata": {},
   "source": [
    "### Vanilla CNN\n",
    "\n",
    "We will begin with a simple CNN model, with 1 convolutional and linear layer each"
   ]
  },
  {
   "cell_type": "code",
   "execution_count": 45,
   "id": "125dd2aa",
   "metadata": {},
   "outputs": [],
   "source": [
    "import torch.nn as nn\n",
    "import time\n",
    "\n",
    "device = torch.device('cuda')"
   ]
  },
  {
   "cell_type": "code",
   "execution_count": 70,
   "id": "b89f464c",
   "metadata": {},
   "outputs": [],
   "source": [
    "size = np.array([256, 256])\n",
    "\n",
    "class Vanilla_CNN(nn.Module):\n",
    "    \n",
    "    def __init__(self, hidden_dim, output_dim):\n",
    "        super(Vanilla_CNN, self).__init__()\n",
    "        \n",
    "        self.linear_dim = hidden_dim*size.product()\n",
    "        self.conv = nn.Conv2d(3, hidden_dim, kernel_size=3, padding=1)\n",
    "        self.linear = nn.Linear(self.linear_dim, output_dim)\n",
    "    \n",
    "    def forward(self, x):\n",
    "        x = self.conv(x)\n",
    "        x = torch.relu(x)\n",
    "        x = x.view(-1, self.linear_dim)\n",
    "        x = self.linear(x)\n",
    "        return x"
   ]
  },
  {
   "cell_type": "code",
   "execution_count": null,
   "id": "fa32a204",
   "metadata": {},
   "outputs": [],
   "source": [
    "def get_error(scores, labels):\n",
    "    bs = labels.size(0)\n",
    "    predicted_labels = scores.argmax(dim=1)\n",
    "    indicator = (predicted_labels != labels)\n",
    "    num_error = indicator.sum()\n",
    "    return num_error.float()/bs"
   ]
  },
  {
   "cell_type": "code",
   "execution_count": null,
   "id": "295e4e5f",
   "metadata": {},
   "outputs": [],
   "source": [
    "def train_model(model, criterion, train_data, train_label, \n",
    "                device, epochs, normalize=True, bs=100, lr=0.2):\n",
    "    \n",
    "    start = time.time()\n",
    "    train_size = train_data.size(0)\n",
    "    num_batch = (train_size // bs) + 1\n",
    "    loss = np.zeros([epochs])\n",
    "    error = np.zeros([epochs])\n",
    "    \n",
    "    mean = train_data.mean()\n",
    "    mean = mean.to(device)\n",
    "    std = train_data.std()\n",
    "    std = std.to(device)\n",
    "    \n",
    "    for epoch in epochs:\n",
    "        epoch_loss = 0\n",
    "        \n",
    "        if epoch % 10 == 9:\n",
    "            lr = lr / 2\n",
    "        optimizer = torch.optim.SGD(model.parameters(), lr=lr)\n",
    "        shuffled_indices = torch.randperm(train_size)\n",
    "        \n",
    "        for count in range(0, train_size, bs):\n",
    "            optimizer.zero_grad()\n",
    "            \n",
    "            indices = shuffled_indices[count: count+bs]\n",
    "            minibatch_data = train_data[indices]\n",
    "            minibatch_label = train_label[indices]\n",
    "            \n",
    "            minibatch_data = minibatch_data.to(device)\n",
    "            minibatch_label = minibatch_label.to(device)\n",
    "            \n",
    "            if normalize:\n",
    "                minibatch_data = (minibatch_data - mean) / std\n",
    "            \n",
    "            minibatch_data.requires_grad_()\n",
    "            \n",
    "            scores = model(minibatch_data)\n",
    "            loss = criterion(scores, minibatch_label)\n",
    "            loss.backward()\n",
    "            optimizer.step()\n",
    "            \n",
    "            epoch_loss += loss.detach().item()\n",
    "            epoch_error += get_error(scores, minibatch_label).item()\n",
    "        \n",
    "        error[epoch] = epoch_error/num_batch\n",
    "        loss[epoch] = epoch_loss/num_batch\n",
    "        elapsed = time.time() - start\n",
    "        print(f'Epoch = {epoch}, Time = {elapsed:.3f}')\n",
    "    \n",
    "    return model, error, loss"
   ]
  },
  {
   "cell_type": "code",
   "execution_count": null,
   "id": "5d906581",
   "metadata": {},
   "outputs": [],
   "source": [
    "def test_model(model, test_data, test_label, \n",
    "               bs=100, normalize=True):\n",
    "    \n",
    "    error = 0\n",
    "    test_size = test_label.size(0)\n",
    "    num_batches = (test_size // bs) + 1\n",
    "    \n",
    "    mean = train_data.mean()\n",
    "    mean = mean.to(device)\n",
    "    std = train_data.std()\n",
    "    std = std.to(device)\n",
    "    \n",
    "    for count in range(0, test_size, bs):\n",
    "        minibatch_data = test_data[count: count+bs]\n",
    "        minibatch_label = test_label[count: count+bs]\n",
    "        \n",
    "        minibatch_data = minibatch_data.to(device)\n",
    "        minibatch_label = minibatch_label.to(device)\n",
    "        \n",
    "        if normalize:\n",
    "            minibatch_data = (minibatch_data - mean) / std\n",
    "        \n",
    "        scores = model(minibatch_data)\n",
    "        error += get_error(scores, minibatch_label).item()\n",
    "    \n",
    "    error = error / num_batches\n",
    "    return error"
   ]
  }
 ],
 "metadata": {
  "kernelspec": {
   "display_name": "Python 3 (ipykernel)",
   "language": "python",
   "name": "python3"
  },
  "language_info": {
   "codemirror_mode": {
    "name": "ipython",
    "version": 3
   },
   "file_extension": ".py",
   "mimetype": "text/x-python",
   "name": "python",
   "nbconvert_exporter": "python",
   "pygments_lexer": "ipython3",
   "version": "3.7.10"
  }
 },
 "nbformat": 4,
 "nbformat_minor": 5
}
